{
 "cells": [
  {
   "cell_type": "code",
   "execution_count": 1,
   "metadata": {
    "colab": {},
    "colab_type": "code",
    "id": "uXvwVVqRuKFa"
   },
   "outputs": [],
   "source": [
    "import numpy as np\n",
    "import matplotlib.pyplot as plt\n",
    "import pandas as pd"
   ]
  },
  {
   "cell_type": "code",
   "execution_count": 2,
   "metadata": {
    "colab": {},
    "colab_type": "code",
    "id": "et0XGuLfuKFi"
   },
   "outputs": [],
   "source": [
    "data_sub = pd.read_csv('subscribers_info.csv', sep=';')\n",
    "data_test  = pd.read_csv('test.csv', sep=';')\n",
    "data_week_cons = pd.read_csv('weekly_consumption.csv', sep=';')"
   ]
  },
  {
   "cell_type": "markdown",
   "metadata": {
    "colab_type": "text",
    "id": "OC52b4ljuKFn"
   },
   "source": [
    "### Табличка с информацией о сабах"
   ]
  },
  {
   "cell_type": "code",
   "execution_count": 3,
   "metadata": {
    "colab": {
     "base_uri": "https://localhost:8080/",
     "height": 204
    },
    "colab_type": "code",
    "id": "rr8_JzK0uKFo",
    "outputId": "62398f71-1919-4e9f-d6db-2ec7111cce17"
   },
   "outputs": [
    {
     "data": {
      "text/html": [
       "<div>\n",
       "<style scoped>\n",
       "    .dataframe tbody tr th:only-of-type {\n",
       "        vertical-align: middle;\n",
       "    }\n",
       "\n",
       "    .dataframe tbody tr th {\n",
       "        vertical-align: top;\n",
       "    }\n",
       "\n",
       "    .dataframe thead th {\n",
       "        text-align: right;\n",
       "    }\n",
       "</style>\n",
       "<table border=\"1\" class=\"dataframe\">\n",
       "  <thead>\n",
       "    <tr style=\"text-align: right;\">\n",
       "      <th></th>\n",
       "      <th>SUBSCRIBER_ID</th>\n",
       "      <th>PRICE_PLAN_CHANGE_DATE</th>\n",
       "      <th>STATUS</th>\n",
       "      <th>LT</th>\n",
       "      <th>LAST_DEVICE_CHANGE_DATE</th>\n",
       "      <th>CHANNEL</th>\n",
       "      <th>PRICE_PLAN_GROUP</th>\n",
       "    </tr>\n",
       "  </thead>\n",
       "  <tbody>\n",
       "    <tr>\n",
       "      <td>0</td>\n",
       "      <td>0</td>\n",
       "      <td>2018-02-09 00:00:00</td>\n",
       "      <td>Active</td>\n",
       "      <td>5050.0</td>\n",
       "      <td>2017-09-30 21:51:15</td>\n",
       "      <td>dealer</td>\n",
       "      <td>PRICE_PLAN_GROUP_0</td>\n",
       "    </tr>\n",
       "    <tr>\n",
       "      <td>1</td>\n",
       "      <td>1</td>\n",
       "      <td>2017-10-02 00:00:00</td>\n",
       "      <td>Active</td>\n",
       "      <td>4786.0</td>\n",
       "      <td>2017-09-20 08:14:19</td>\n",
       "      <td>dealer</td>\n",
       "      <td>PRICE_PLAN_GROUP_0</td>\n",
       "    </tr>\n",
       "    <tr>\n",
       "      <td>2</td>\n",
       "      <td>2</td>\n",
       "      <td>2016-11-09 00:00:00</td>\n",
       "      <td>Non-active</td>\n",
       "      <td>5052.0</td>\n",
       "      <td>NaN</td>\n",
       "      <td>dealer</td>\n",
       "      <td>PRICE_PLAN_GROUP_1</td>\n",
       "    </tr>\n",
       "    <tr>\n",
       "      <td>3</td>\n",
       "      <td>3</td>\n",
       "      <td>2017-11-29 00:00:00</td>\n",
       "      <td>Active</td>\n",
       "      <td>4242.0</td>\n",
       "      <td>NaN</td>\n",
       "      <td>dealer</td>\n",
       "      <td>PRICE_PLAN_GROUP_0</td>\n",
       "    </tr>\n",
       "    <tr>\n",
       "      <td>4</td>\n",
       "      <td>4</td>\n",
       "      <td>2018-05-29 00:00:00</td>\n",
       "      <td>Active</td>\n",
       "      <td>5970.0</td>\n",
       "      <td>2017-10-09 09:43:06</td>\n",
       "      <td>dealer</td>\n",
       "      <td>PRICE_PLAN_GROUP_0</td>\n",
       "    </tr>\n",
       "  </tbody>\n",
       "</table>\n",
       "</div>"
      ],
      "text/plain": [
       "   SUBSCRIBER_ID PRICE_PLAN_CHANGE_DATE      STATUS      LT  \\\n",
       "0              0    2018-02-09 00:00:00      Active  5050.0   \n",
       "1              1    2017-10-02 00:00:00      Active  4786.0   \n",
       "2              2    2016-11-09 00:00:00  Non-active  5052.0   \n",
       "3              3    2017-11-29 00:00:00      Active  4242.0   \n",
       "4              4    2018-05-29 00:00:00      Active  5970.0   \n",
       "\n",
       "  LAST_DEVICE_CHANGE_DATE CHANNEL    PRICE_PLAN_GROUP  \n",
       "0     2017-09-30 21:51:15  dealer  PRICE_PLAN_GROUP_0  \n",
       "1     2017-09-20 08:14:19  dealer  PRICE_PLAN_GROUP_0  \n",
       "2                     NaN  dealer  PRICE_PLAN_GROUP_1  \n",
       "3                     NaN  dealer  PRICE_PLAN_GROUP_0  \n",
       "4     2017-10-09 09:43:06  dealer  PRICE_PLAN_GROUP_0  "
      ]
     },
     "execution_count": 3,
     "metadata": {},
     "output_type": "execute_result"
    },
    {
     "data": {
      "text/html": [
       "<div>\n",
       "<style scoped>\n",
       "    .dataframe tbody tr th:only-of-type {\n",
       "        vertical-align: middle;\n",
       "    }\n",
       "\n",
       "    .dataframe tbody tr th {\n",
       "        vertical-align: top;\n",
       "    }\n",
       "\n",
       "    .dataframe thead th {\n",
       "        text-align: right;\n",
       "    }\n",
       "</style>\n",
       "<table border=\"1\" class=\"dataframe\">\n",
       "  <thead>\n",
       "    <tr style=\"text-align: right;\">\n",
       "      <th></th>\n",
       "      <th>SUBSCRIBER_ID</th>\n",
       "      <th>PRICE_PLAN_CHANGE_DATE</th>\n",
       "      <th>STATUS</th>\n",
       "      <th>LT</th>\n",
       "      <th>LAST_DEVICE_CHANGE_DATE</th>\n",
       "      <th>CHANNEL</th>\n",
       "      <th>PRICE_PLAN_GROUP</th>\n",
       "    </tr>\n",
       "  </thead>\n",
       "  <tbody>\n",
       "    <tr>\n",
       "      <td>0</td>\n",
       "      <td>0</td>\n",
       "      <td>2018-02-09 00:00:00</td>\n",
       "      <td>Active</td>\n",
       "      <td>5050.0</td>\n",
       "      <td>2017-09-30 21:51:15</td>\n",
       "      <td>dealer</td>\n",
       "      <td>PRICE_PLAN_GROUP_0</td>\n",
       "    </tr>\n",
       "    <tr>\n",
       "      <td>1</td>\n",
       "      <td>1</td>\n",
       "      <td>2017-10-02 00:00:00</td>\n",
       "      <td>Active</td>\n",
       "      <td>4786.0</td>\n",
       "      <td>2017-09-20 08:14:19</td>\n",
       "      <td>dealer</td>\n",
       "      <td>PRICE_PLAN_GROUP_0</td>\n",
       "    </tr>\n",
       "    <tr>\n",
       "      <td>2</td>\n",
       "      <td>2</td>\n",
       "      <td>2016-11-09 00:00:00</td>\n",
       "      <td>Non-active</td>\n",
       "      <td>5052.0</td>\n",
       "      <td>NaN</td>\n",
       "      <td>dealer</td>\n",
       "      <td>PRICE_PLAN_GROUP_1</td>\n",
       "    </tr>\n",
       "    <tr>\n",
       "      <td>3</td>\n",
       "      <td>3</td>\n",
       "      <td>2017-11-29 00:00:00</td>\n",
       "      <td>Active</td>\n",
       "      <td>4242.0</td>\n",
       "      <td>NaN</td>\n",
       "      <td>dealer</td>\n",
       "      <td>PRICE_PLAN_GROUP_0</td>\n",
       "    </tr>\n",
       "    <tr>\n",
       "      <td>4</td>\n",
       "      <td>4</td>\n",
       "      <td>2018-05-29 00:00:00</td>\n",
       "      <td>Active</td>\n",
       "      <td>5970.0</td>\n",
       "      <td>2017-10-09 09:43:06</td>\n",
       "      <td>dealer</td>\n",
       "      <td>PRICE_PLAN_GROUP_0</td>\n",
       "    </tr>\n",
       "  </tbody>\n",
       "</table>\n",
       "</div>"
      ],
      "text/plain": [
       "   SUBSCRIBER_ID PRICE_PLAN_CHANGE_DATE      STATUS      LT  \\\n",
       "0              0    2018-02-09 00:00:00      Active  5050.0   \n",
       "1              1    2017-10-02 00:00:00      Active  4786.0   \n",
       "2              2    2016-11-09 00:00:00  Non-active  5052.0   \n",
       "3              3    2017-11-29 00:00:00      Active  4242.0   \n",
       "4              4    2018-05-29 00:00:00      Active  5970.0   \n",
       "\n",
       "  LAST_DEVICE_CHANGE_DATE CHANNEL    PRICE_PLAN_GROUP  \n",
       "0     2017-09-30 21:51:15  dealer  PRICE_PLAN_GROUP_0  \n",
       "1     2017-09-20 08:14:19  dealer  PRICE_PLAN_GROUP_0  \n",
       "2                     NaN  dealer  PRICE_PLAN_GROUP_1  \n",
       "3                     NaN  dealer  PRICE_PLAN_GROUP_0  \n",
       "4     2017-10-09 09:43:06  dealer  PRICE_PLAN_GROUP_0  "
      ]
     },
     "execution_count": 3,
     "metadata": {},
     "output_type": "execute_result"
    }
   ],
   "source": [
    "data_sub.head()"
   ]
  },
  {
   "cell_type": "markdown",
   "metadata": {
    "colab_type": "text",
    "id": "r1BpItkouKFt"
   },
   "source": [
    "### Табличка сабов для которых надо предсказать ARPU на 4 недели"
   ]
  },
  {
   "cell_type": "code",
   "execution_count": 4,
   "metadata": {
    "colab": {
     "base_uri": "https://localhost:8080/",
     "height": 204
    },
    "colab_type": "code",
    "id": "2kZY57wIuKFt",
    "outputId": "ea2f3599-d8bf-492f-bfff-8cdd9f55c64b"
   },
   "outputs": [
    {
     "data": {
      "text/html": [
       "<div>\n",
       "<style scoped>\n",
       "    .dataframe tbody tr th:only-of-type {\n",
       "        vertical-align: middle;\n",
       "    }\n",
       "\n",
       "    .dataframe tbody tr th {\n",
       "        vertical-align: top;\n",
       "    }\n",
       "\n",
       "    .dataframe thead th {\n",
       "        text-align: right;\n",
       "    }\n",
       "</style>\n",
       "<table border=\"1\" class=\"dataframe\">\n",
       "  <thead>\n",
       "    <tr style=\"text-align: right;\">\n",
       "      <th></th>\n",
       "      <th>SUBSCRIBER_ID</th>\n",
       "    </tr>\n",
       "  </thead>\n",
       "  <tbody>\n",
       "    <tr>\n",
       "      <td>0</td>\n",
       "      <td>185586</td>\n",
       "    </tr>\n",
       "    <tr>\n",
       "      <td>1</td>\n",
       "      <td>172319</td>\n",
       "    </tr>\n",
       "    <tr>\n",
       "      <td>2</td>\n",
       "      <td>131695</td>\n",
       "    </tr>\n",
       "    <tr>\n",
       "      <td>3</td>\n",
       "      <td>183342</td>\n",
       "    </tr>\n",
       "    <tr>\n",
       "      <td>4</td>\n",
       "      <td>99269</td>\n",
       "    </tr>\n",
       "  </tbody>\n",
       "</table>\n",
       "</div>"
      ],
      "text/plain": [
       "   SUBSCRIBER_ID\n",
       "0         185586\n",
       "1         172319\n",
       "2         131695\n",
       "3         183342\n",
       "4          99269"
      ]
     },
     "execution_count": 4,
     "metadata": {},
     "output_type": "execute_result"
    },
    {
     "data": {
      "text/html": [
       "<div>\n",
       "<style scoped>\n",
       "    .dataframe tbody tr th:only-of-type {\n",
       "        vertical-align: middle;\n",
       "    }\n",
       "\n",
       "    .dataframe tbody tr th {\n",
       "        vertical-align: top;\n",
       "    }\n",
       "\n",
       "    .dataframe thead th {\n",
       "        text-align: right;\n",
       "    }\n",
       "</style>\n",
       "<table border=\"1\" class=\"dataframe\">\n",
       "  <thead>\n",
       "    <tr style=\"text-align: right;\">\n",
       "      <th></th>\n",
       "      <th>SUBSCRIBER_ID</th>\n",
       "    </tr>\n",
       "  </thead>\n",
       "  <tbody>\n",
       "    <tr>\n",
       "      <td>0</td>\n",
       "      <td>185586</td>\n",
       "    </tr>\n",
       "    <tr>\n",
       "      <td>1</td>\n",
       "      <td>172319</td>\n",
       "    </tr>\n",
       "    <tr>\n",
       "      <td>2</td>\n",
       "      <td>131695</td>\n",
       "    </tr>\n",
       "    <tr>\n",
       "      <td>3</td>\n",
       "      <td>183342</td>\n",
       "    </tr>\n",
       "    <tr>\n",
       "      <td>4</td>\n",
       "      <td>99269</td>\n",
       "    </tr>\n",
       "  </tbody>\n",
       "</table>\n",
       "</div>"
      ],
      "text/plain": [
       "   SUBSCRIBER_ID\n",
       "0         185586\n",
       "1         172319\n",
       "2         131695\n",
       "3         183342\n",
       "4          99269"
      ]
     },
     "execution_count": 4,
     "metadata": {},
     "output_type": "execute_result"
    }
   ],
   "source": [
    "data_test.head()"
   ]
  },
  {
   "cell_type": "code",
   "execution_count": 5,
   "metadata": {
    "colab": {
     "base_uri": "https://localhost:8080/",
     "height": 34
    },
    "colab_type": "code",
    "id": "LCsoQyuNuKFy",
    "outputId": "9c2aa2d7-702a-499f-a104-1fb67223b53f"
   },
   "outputs": [
    {
     "data": {
      "text/plain": [
       "(50000, 1)"
      ]
     },
     "execution_count": 5,
     "metadata": {},
     "output_type": "execute_result"
    },
    {
     "data": {
      "text/plain": [
       "(50000, 1)"
      ]
     },
     "execution_count": 5,
     "metadata": {},
     "output_type": "execute_result"
    }
   ],
   "source": [
    "data_test.shape"
   ]
  },
  {
   "cell_type": "markdown",
   "metadata": {
    "colab_type": "text",
    "id": "rowG26S3uKF3"
   },
   "source": [
    "### ТАбличка с 5 миллионами строк о понедельной информации о сабах"
   ]
  },
  {
   "cell_type": "code",
   "execution_count": 6,
   "metadata": {
    "colab": {
     "base_uri": "https://localhost:8080/",
     "height": 309
    },
    "colab_type": "code",
    "id": "MyxDcBrRuKF4",
    "outputId": "cbc7abbe-5c85-4589-df3c-71580a3d9366"
   },
   "outputs": [
    {
     "data": {
      "text/html": [
       "<div>\n",
       "<style scoped>\n",
       "    .dataframe tbody tr th:only-of-type {\n",
       "        vertical-align: middle;\n",
       "    }\n",
       "\n",
       "    .dataframe tbody tr th {\n",
       "        vertical-align: top;\n",
       "    }\n",
       "\n",
       "    .dataframe thead th {\n",
       "        text-align: right;\n",
       "    }\n",
       "</style>\n",
       "<table border=\"1\" class=\"dataframe\">\n",
       "  <thead>\n",
       "    <tr style=\"text-align: right;\">\n",
       "      <th></th>\n",
       "      <th>SUBSCRIBER_ID</th>\n",
       "      <th>TIME_KEY</th>\n",
       "      <th>LAST_BALANCE</th>\n",
       "      <th>LT</th>\n",
       "      <th>SUM_RECHARGE</th>\n",
       "      <th>COUNT_RECHARGE</th>\n",
       "      <th>MAX_RECHARGE</th>\n",
       "      <th>MIN_RECHARGE</th>\n",
       "      <th>ARPU</th>\n",
       "      <th>AVG_BALANCE</th>\n",
       "      <th>...</th>\n",
       "      <th>TOTAL_OUT</th>\n",
       "      <th>TOTAL_IN</th>\n",
       "      <th>UNIQUE_NUMBERS</th>\n",
       "      <th>DAYS_IN_BLOCK</th>\n",
       "      <th>DAYS_WITH_TRANSACTIONS</th>\n",
       "      <th>OUT_ONNET</th>\n",
       "      <th>OUT_LOCAL_ONNET</th>\n",
       "      <th>OUT_LOCAL_OFFNET</th>\n",
       "      <th>IN_LOCAL_ONNET</th>\n",
       "      <th>IN_LOCAL_OFFNET</th>\n",
       "    </tr>\n",
       "  </thead>\n",
       "  <tbody>\n",
       "    <tr>\n",
       "      <td>0</td>\n",
       "      <td>79201</td>\n",
       "      <td>2018-07-09</td>\n",
       "      <td>206.01</td>\n",
       "      <td>1564</td>\n",
       "      <td>0.00</td>\n",
       "      <td>0</td>\n",
       "      <td>0.0</td>\n",
       "      <td>0.00</td>\n",
       "      <td>81.69</td>\n",
       "      <td>241.01</td>\n",
       "      <td>...</td>\n",
       "      <td>117.9000</td>\n",
       "      <td>157.9333</td>\n",
       "      <td>22</td>\n",
       "      <td>0</td>\n",
       "      <td>7</td>\n",
       "      <td>102.1500</td>\n",
       "      <td>102.1500</td>\n",
       "      <td>14.4500</td>\n",
       "      <td>120.5333</td>\n",
       "      <td>8.7167</td>\n",
       "    </tr>\n",
       "    <tr>\n",
       "      <td>1</td>\n",
       "      <td>147319</td>\n",
       "      <td>2018-07-09</td>\n",
       "      <td>53.79</td>\n",
       "      <td>1421</td>\n",
       "      <td>490.02</td>\n",
       "      <td>3</td>\n",
       "      <td>300.0</td>\n",
       "      <td>90.02</td>\n",
       "      <td>234.69</td>\n",
       "      <td>132.62</td>\n",
       "      <td>...</td>\n",
       "      <td>83.4667</td>\n",
       "      <td>88.0500</td>\n",
       "      <td>21</td>\n",
       "      <td>0</td>\n",
       "      <td>7</td>\n",
       "      <td>67.5000</td>\n",
       "      <td>67.5000</td>\n",
       "      <td>6.2167</td>\n",
       "      <td>87.6833</td>\n",
       "      <td>0.3667</td>\n",
       "    </tr>\n",
       "    <tr>\n",
       "      <td>2</td>\n",
       "      <td>28408</td>\n",
       "      <td>2018-06-25</td>\n",
       "      <td>106.33</td>\n",
       "      <td>3100</td>\n",
       "      <td>300.00</td>\n",
       "      <td>1</td>\n",
       "      <td>300.0</td>\n",
       "      <td>300.00</td>\n",
       "      <td>262.00</td>\n",
       "      <td>122.90</td>\n",
       "      <td>...</td>\n",
       "      <td>37.0667</td>\n",
       "      <td>100.2500</td>\n",
       "      <td>19</td>\n",
       "      <td>0</td>\n",
       "      <td>7</td>\n",
       "      <td>13.3500</td>\n",
       "      <td>11.5500</td>\n",
       "      <td>21.1833</td>\n",
       "      <td>70.7333</td>\n",
       "      <td>25.2333</td>\n",
       "    </tr>\n",
       "    <tr>\n",
       "      <td>3</td>\n",
       "      <td>22306</td>\n",
       "      <td>2018-07-02</td>\n",
       "      <td>265.85</td>\n",
       "      <td>5123</td>\n",
       "      <td>150.00</td>\n",
       "      <td>1</td>\n",
       "      <td>150.0</td>\n",
       "      <td>150.00</td>\n",
       "      <td>81.69</td>\n",
       "      <td>215.14</td>\n",
       "      <td>...</td>\n",
       "      <td>32.9000</td>\n",
       "      <td>7.0833</td>\n",
       "      <td>15</td>\n",
       "      <td>0</td>\n",
       "      <td>7</td>\n",
       "      <td>0.6167</td>\n",
       "      <td>0.6167</td>\n",
       "      <td>30.7500</td>\n",
       "      <td>2.5167</td>\n",
       "      <td>4.5667</td>\n",
       "    </tr>\n",
       "    <tr>\n",
       "      <td>4</td>\n",
       "      <td>220112</td>\n",
       "      <td>2018-07-30</td>\n",
       "      <td>106.52</td>\n",
       "      <td>295</td>\n",
       "      <td>265.00</td>\n",
       "      <td>3</td>\n",
       "      <td>100.0</td>\n",
       "      <td>67.00</td>\n",
       "      <td>129.69</td>\n",
       "      <td>79.59</td>\n",
       "      <td>...</td>\n",
       "      <td>767.9167</td>\n",
       "      <td>633.9500</td>\n",
       "      <td>25</td>\n",
       "      <td>0</td>\n",
       "      <td>7</td>\n",
       "      <td>741.1667</td>\n",
       "      <td>740.6500</td>\n",
       "      <td>19.8000</td>\n",
       "      <td>613.2833</td>\n",
       "      <td>14.1167</td>\n",
       "    </tr>\n",
       "  </tbody>\n",
       "</table>\n",
       "<p>5 rows × 26 columns</p>\n",
       "</div>"
      ],
      "text/plain": [
       "   SUBSCRIBER_ID    TIME_KEY  LAST_BALANCE    LT  SUM_RECHARGE  \\\n",
       "0          79201  2018-07-09        206.01  1564          0.00   \n",
       "1         147319  2018-07-09         53.79  1421        490.02   \n",
       "2          28408  2018-06-25        106.33  3100        300.00   \n",
       "3          22306  2018-07-02        265.85  5123        150.00   \n",
       "4         220112  2018-07-30        106.52   295        265.00   \n",
       "\n",
       "   COUNT_RECHARGE  MAX_RECHARGE  MIN_RECHARGE    ARPU  AVG_BALANCE  ...  \\\n",
       "0               0           0.0          0.00   81.69       241.01  ...   \n",
       "1               3         300.0         90.02  234.69       132.62  ...   \n",
       "2               1         300.0        300.00  262.00       122.90  ...   \n",
       "3               1         150.0        150.00   81.69       215.14  ...   \n",
       "4               3         100.0         67.00  129.69        79.59  ...   \n",
       "\n",
       "   TOTAL_OUT  TOTAL_IN  UNIQUE_NUMBERS  DAYS_IN_BLOCK  DAYS_WITH_TRANSACTIONS  \\\n",
       "0   117.9000  157.9333              22              0                       7   \n",
       "1    83.4667   88.0500              21              0                       7   \n",
       "2    37.0667  100.2500              19              0                       7   \n",
       "3    32.9000    7.0833              15              0                       7   \n",
       "4   767.9167  633.9500              25              0                       7   \n",
       "\n",
       "   OUT_ONNET  OUT_LOCAL_ONNET  OUT_LOCAL_OFFNET  IN_LOCAL_ONNET  \\\n",
       "0   102.1500         102.1500           14.4500        120.5333   \n",
       "1    67.5000          67.5000            6.2167         87.6833   \n",
       "2    13.3500          11.5500           21.1833         70.7333   \n",
       "3     0.6167           0.6167           30.7500          2.5167   \n",
       "4   741.1667         740.6500           19.8000        613.2833   \n",
       "\n",
       "   IN_LOCAL_OFFNET  \n",
       "0           8.7167  \n",
       "1           0.3667  \n",
       "2          25.2333  \n",
       "3           4.5667  \n",
       "4          14.1167  \n",
       "\n",
       "[5 rows x 26 columns]"
      ]
     },
     "execution_count": 6,
     "metadata": {},
     "output_type": "execute_result"
    },
    {
     "data": {
      "text/html": [
       "<div>\n",
       "<style scoped>\n",
       "    .dataframe tbody tr th:only-of-type {\n",
       "        vertical-align: middle;\n",
       "    }\n",
       "\n",
       "    .dataframe tbody tr th {\n",
       "        vertical-align: top;\n",
       "    }\n",
       "\n",
       "    .dataframe thead th {\n",
       "        text-align: right;\n",
       "    }\n",
       "</style>\n",
       "<table border=\"1\" class=\"dataframe\">\n",
       "  <thead>\n",
       "    <tr style=\"text-align: right;\">\n",
       "      <th></th>\n",
       "      <th>SUBSCRIBER_ID</th>\n",
       "      <th>TIME_KEY</th>\n",
       "      <th>LAST_BALANCE</th>\n",
       "      <th>LT</th>\n",
       "      <th>SUM_RECHARGE</th>\n",
       "      <th>COUNT_RECHARGE</th>\n",
       "      <th>MAX_RECHARGE</th>\n",
       "      <th>MIN_RECHARGE</th>\n",
       "      <th>ARPU</th>\n",
       "      <th>AVG_BALANCE</th>\n",
       "      <th>...</th>\n",
       "      <th>TOTAL_OUT</th>\n",
       "      <th>TOTAL_IN</th>\n",
       "      <th>UNIQUE_NUMBERS</th>\n",
       "      <th>DAYS_IN_BLOCK</th>\n",
       "      <th>DAYS_WITH_TRANSACTIONS</th>\n",
       "      <th>OUT_ONNET</th>\n",
       "      <th>OUT_LOCAL_ONNET</th>\n",
       "      <th>OUT_LOCAL_OFFNET</th>\n",
       "      <th>IN_LOCAL_ONNET</th>\n",
       "      <th>IN_LOCAL_OFFNET</th>\n",
       "    </tr>\n",
       "  </thead>\n",
       "  <tbody>\n",
       "    <tr>\n",
       "      <td>0</td>\n",
       "      <td>79201</td>\n",
       "      <td>2018-07-09</td>\n",
       "      <td>206.01</td>\n",
       "      <td>1564</td>\n",
       "      <td>0.00</td>\n",
       "      <td>0</td>\n",
       "      <td>0.0</td>\n",
       "      <td>0.00</td>\n",
       "      <td>81.69</td>\n",
       "      <td>241.01</td>\n",
       "      <td>...</td>\n",
       "      <td>117.9000</td>\n",
       "      <td>157.9333</td>\n",
       "      <td>22</td>\n",
       "      <td>0</td>\n",
       "      <td>7</td>\n",
       "      <td>102.1500</td>\n",
       "      <td>102.1500</td>\n",
       "      <td>14.4500</td>\n",
       "      <td>120.5333</td>\n",
       "      <td>8.7167</td>\n",
       "    </tr>\n",
       "    <tr>\n",
       "      <td>1</td>\n",
       "      <td>147319</td>\n",
       "      <td>2018-07-09</td>\n",
       "      <td>53.79</td>\n",
       "      <td>1421</td>\n",
       "      <td>490.02</td>\n",
       "      <td>3</td>\n",
       "      <td>300.0</td>\n",
       "      <td>90.02</td>\n",
       "      <td>234.69</td>\n",
       "      <td>132.62</td>\n",
       "      <td>...</td>\n",
       "      <td>83.4667</td>\n",
       "      <td>88.0500</td>\n",
       "      <td>21</td>\n",
       "      <td>0</td>\n",
       "      <td>7</td>\n",
       "      <td>67.5000</td>\n",
       "      <td>67.5000</td>\n",
       "      <td>6.2167</td>\n",
       "      <td>87.6833</td>\n",
       "      <td>0.3667</td>\n",
       "    </tr>\n",
       "    <tr>\n",
       "      <td>2</td>\n",
       "      <td>28408</td>\n",
       "      <td>2018-06-25</td>\n",
       "      <td>106.33</td>\n",
       "      <td>3100</td>\n",
       "      <td>300.00</td>\n",
       "      <td>1</td>\n",
       "      <td>300.0</td>\n",
       "      <td>300.00</td>\n",
       "      <td>262.00</td>\n",
       "      <td>122.90</td>\n",
       "      <td>...</td>\n",
       "      <td>37.0667</td>\n",
       "      <td>100.2500</td>\n",
       "      <td>19</td>\n",
       "      <td>0</td>\n",
       "      <td>7</td>\n",
       "      <td>13.3500</td>\n",
       "      <td>11.5500</td>\n",
       "      <td>21.1833</td>\n",
       "      <td>70.7333</td>\n",
       "      <td>25.2333</td>\n",
       "    </tr>\n",
       "    <tr>\n",
       "      <td>3</td>\n",
       "      <td>22306</td>\n",
       "      <td>2018-07-02</td>\n",
       "      <td>265.85</td>\n",
       "      <td>5123</td>\n",
       "      <td>150.00</td>\n",
       "      <td>1</td>\n",
       "      <td>150.0</td>\n",
       "      <td>150.00</td>\n",
       "      <td>81.69</td>\n",
       "      <td>215.14</td>\n",
       "      <td>...</td>\n",
       "      <td>32.9000</td>\n",
       "      <td>7.0833</td>\n",
       "      <td>15</td>\n",
       "      <td>0</td>\n",
       "      <td>7</td>\n",
       "      <td>0.6167</td>\n",
       "      <td>0.6167</td>\n",
       "      <td>30.7500</td>\n",
       "      <td>2.5167</td>\n",
       "      <td>4.5667</td>\n",
       "    </tr>\n",
       "    <tr>\n",
       "      <td>4</td>\n",
       "      <td>220112</td>\n",
       "      <td>2018-07-30</td>\n",
       "      <td>106.52</td>\n",
       "      <td>295</td>\n",
       "      <td>265.00</td>\n",
       "      <td>3</td>\n",
       "      <td>100.0</td>\n",
       "      <td>67.00</td>\n",
       "      <td>129.69</td>\n",
       "      <td>79.59</td>\n",
       "      <td>...</td>\n",
       "      <td>767.9167</td>\n",
       "      <td>633.9500</td>\n",
       "      <td>25</td>\n",
       "      <td>0</td>\n",
       "      <td>7</td>\n",
       "      <td>741.1667</td>\n",
       "      <td>740.6500</td>\n",
       "      <td>19.8000</td>\n",
       "      <td>613.2833</td>\n",
       "      <td>14.1167</td>\n",
       "    </tr>\n",
       "  </tbody>\n",
       "</table>\n",
       "<p>5 rows × 26 columns</p>\n",
       "</div>"
      ],
      "text/plain": [
       "   SUBSCRIBER_ID    TIME_KEY  LAST_BALANCE    LT  SUM_RECHARGE  \\\n",
       "0          79201  2018-07-09        206.01  1564          0.00   \n",
       "1         147319  2018-07-09         53.79  1421        490.02   \n",
       "2          28408  2018-06-25        106.33  3100        300.00   \n",
       "3          22306  2018-07-02        265.85  5123        150.00   \n",
       "4         220112  2018-07-30        106.52   295        265.00   \n",
       "\n",
       "   COUNT_RECHARGE  MAX_RECHARGE  MIN_RECHARGE    ARPU  AVG_BALANCE  ...  \\\n",
       "0               0           0.0          0.00   81.69       241.01  ...   \n",
       "1               3         300.0         90.02  234.69       132.62  ...   \n",
       "2               1         300.0        300.00  262.00       122.90  ...   \n",
       "3               1         150.0        150.00   81.69       215.14  ...   \n",
       "4               3         100.0         67.00  129.69        79.59  ...   \n",
       "\n",
       "   TOTAL_OUT  TOTAL_IN  UNIQUE_NUMBERS  DAYS_IN_BLOCK  DAYS_WITH_TRANSACTIONS  \\\n",
       "0   117.9000  157.9333              22              0                       7   \n",
       "1    83.4667   88.0500              21              0                       7   \n",
       "2    37.0667  100.2500              19              0                       7   \n",
       "3    32.9000    7.0833              15              0                       7   \n",
       "4   767.9167  633.9500              25              0                       7   \n",
       "\n",
       "   OUT_ONNET  OUT_LOCAL_ONNET  OUT_LOCAL_OFFNET  IN_LOCAL_ONNET  \\\n",
       "0   102.1500         102.1500           14.4500        120.5333   \n",
       "1    67.5000          67.5000            6.2167         87.6833   \n",
       "2    13.3500          11.5500           21.1833         70.7333   \n",
       "3     0.6167           0.6167           30.7500          2.5167   \n",
       "4   741.1667         740.6500           19.8000        613.2833   \n",
       "\n",
       "   IN_LOCAL_OFFNET  \n",
       "0           8.7167  \n",
       "1           0.3667  \n",
       "2          25.2333  \n",
       "3           4.5667  \n",
       "4          14.1167  \n",
       "\n",
       "[5 rows x 26 columns]"
      ]
     },
     "execution_count": 6,
     "metadata": {},
     "output_type": "execute_result"
    }
   ],
   "source": [
    "data_week_cons.head()"
   ]
  },
  {
   "cell_type": "code",
   "execution_count": 7,
   "metadata": {
    "colab": {
     "base_uri": "https://localhost:8080/",
     "height": 34
    },
    "colab_type": "code",
    "id": "60WmP9OXuKF5",
    "outputId": "69ca36c5-8b93-428e-a326-cf83925817ae"
   },
   "outputs": [
    {
     "data": {
      "text/plain": [
       "(5270704, 26)"
      ]
     },
     "execution_count": 7,
     "metadata": {},
     "output_type": "execute_result"
    },
    {
     "data": {
      "text/plain": [
       "(5270704, 26)"
      ]
     },
     "execution_count": 7,
     "metadata": {},
     "output_type": "execute_result"
    }
   ],
   "source": [
    "data_week_cons.shape"
   ]
  },
  {
   "cell_type": "markdown",
   "metadata": {
    "colab_type": "text",
    "id": "hbB5Xg9yuKF8"
   },
   "source": [
    "### Соединяем таблички и пробуем предсказывать arpu стоковым катбустом"
   ]
  },
  {
   "cell_type": "code",
   "execution_count": 8,
   "metadata": {
    "colab": {},
    "colab_type": "code",
    "id": "7BKntfuduKF8"
   },
   "outputs": [],
   "source": [
    "data = pd.merge(data_week_cons, data_sub,  how=\"right\", on='SUBSCRIBER_ID')"
   ]
  },
  {
   "cell_type": "code",
   "execution_count": 9,
   "metadata": {
    "colab": {},
    "colab_type": "code",
    "id": "GQkOuIN1uKF9"
   },
   "outputs": [],
   "source": [
    "del data_week_cons"
   ]
  },
  {
   "cell_type": "code",
   "execution_count": 10,
   "metadata": {
    "colab": {},
    "colab_type": "code",
    "id": "W-ov8REyuKGA"
   },
   "outputs": [],
   "source": [
    "data.dropna(subset=['TIME_KEY'], inplace = True) # droping 38 nan rows"
   ]
  },
  {
   "cell_type": "code",
   "execution_count": 11,
   "metadata": {
    "colab": {
     "base_uri": "https://localhost:8080/",
     "height": 34
    },
    "colab_type": "code",
    "id": "ekAPJ_45uKGD",
    "outputId": "e47bef16-12fb-4fbf-f980-db9af6b9261d"
   },
   "outputs": [
    {
     "data": {
      "text/plain": [
       "(5270704, 32)"
      ]
     },
     "execution_count": 11,
     "metadata": {},
     "output_type": "execute_result"
    },
    {
     "data": {
      "text/plain": [
       "(5270704, 32)"
      ]
     },
     "execution_count": 11,
     "metadata": {},
     "output_type": "execute_result"
    }
   ],
   "source": [
    "data.shape"
   ]
  },
  {
   "cell_type": "code",
   "execution_count": 12,
   "metadata": {
    "colab": {},
    "colab_type": "code",
    "id": "fUI0hxqbuKGF"
   },
   "outputs": [],
   "source": [
    "#X = data.drop(['TIME_KEY', 'LT_y', 'LAST_DEVICE_CHANGE_DATE','PRICE_PLAN_CHANGE_DATE', 'ARPU'], axis = 1)"
   ]
  },
  {
   "cell_type": "code",
   "execution_count": 13,
   "metadata": {
    "colab": {},
    "colab_type": "code",
    "id": "CSMb6phquKGG"
   },
   "outputs": [],
   "source": [
    "#y = data.ARPU.values"
   ]
  },
  {
   "cell_type": "code",
   "execution_count": 14,
   "metadata": {
    "colab": {},
    "colab_type": "code",
    "id": "p6_g1NnRuKGH"
   },
   "outputs": [],
   "source": [
    "#from sklearn.model_selection import train_test_split\n",
    "#X_train, X_test, y_train, y_test = train_test_split(X, y, train_size=0.8, random_state=42)"
   ]
  },
  {
   "cell_type": "code",
   "execution_count": 15,
   "metadata": {
    "colab": {
     "base_uri": "https://localhost:8080/",
     "height": 309
    },
    "colab_type": "code",
    "id": "dePBVriYuKGI",
    "outputId": "62d3c88b-bcf1-46c1-c291-9f2c50b607a6"
   },
   "outputs": [
    {
     "data": {
      "text/html": [
       "<div>\n",
       "<style scoped>\n",
       "    .dataframe tbody tr th:only-of-type {\n",
       "        vertical-align: middle;\n",
       "    }\n",
       "\n",
       "    .dataframe tbody tr th {\n",
       "        vertical-align: top;\n",
       "    }\n",
       "\n",
       "    .dataframe thead th {\n",
       "        text-align: right;\n",
       "    }\n",
       "</style>\n",
       "<table border=\"1\" class=\"dataframe\">\n",
       "  <thead>\n",
       "    <tr style=\"text-align: right;\">\n",
       "      <th></th>\n",
       "      <th>SUBSCRIBER_ID</th>\n",
       "      <th>TIME_KEY</th>\n",
       "      <th>LAST_BALANCE</th>\n",
       "      <th>LT_x</th>\n",
       "      <th>SUM_RECHARGE</th>\n",
       "      <th>COUNT_RECHARGE</th>\n",
       "      <th>MAX_RECHARGE</th>\n",
       "      <th>MIN_RECHARGE</th>\n",
       "      <th>ARPU</th>\n",
       "      <th>AVG_BALANCE</th>\n",
       "      <th>...</th>\n",
       "      <th>OUT_LOCAL_ONNET</th>\n",
       "      <th>OUT_LOCAL_OFFNET</th>\n",
       "      <th>IN_LOCAL_ONNET</th>\n",
       "      <th>IN_LOCAL_OFFNET</th>\n",
       "      <th>PRICE_PLAN_CHANGE_DATE</th>\n",
       "      <th>STATUS</th>\n",
       "      <th>LT_y</th>\n",
       "      <th>LAST_DEVICE_CHANGE_DATE</th>\n",
       "      <th>CHANNEL</th>\n",
       "      <th>PRICE_PLAN_GROUP</th>\n",
       "    </tr>\n",
       "  </thead>\n",
       "  <tbody>\n",
       "    <tr>\n",
       "      <td>0</td>\n",
       "      <td>79201</td>\n",
       "      <td>2018-07-09</td>\n",
       "      <td>206.01</td>\n",
       "      <td>1564.0</td>\n",
       "      <td>0.0</td>\n",
       "      <td>0.0</td>\n",
       "      <td>0.0</td>\n",
       "      <td>0.0</td>\n",
       "      <td>81.69</td>\n",
       "      <td>241.01</td>\n",
       "      <td>...</td>\n",
       "      <td>102.1500</td>\n",
       "      <td>14.4500</td>\n",
       "      <td>120.5333</td>\n",
       "      <td>8.7167</td>\n",
       "      <td>2017-12-23 00:00:00</td>\n",
       "      <td>Active</td>\n",
       "      <td>1519.0</td>\n",
       "      <td>2017-12-07 08:34:36</td>\n",
       "      <td>franchise</td>\n",
       "      <td>PRICE_PLAN_GROUP_0</td>\n",
       "    </tr>\n",
       "    <tr>\n",
       "      <td>1</td>\n",
       "      <td>79201</td>\n",
       "      <td>2018-03-12</td>\n",
       "      <td>186.00</td>\n",
       "      <td>1445.0</td>\n",
       "      <td>0.0</td>\n",
       "      <td>0.0</td>\n",
       "      <td>0.0</td>\n",
       "      <td>0.0</td>\n",
       "      <td>87.50</td>\n",
       "      <td>227.50</td>\n",
       "      <td>...</td>\n",
       "      <td>272.7667</td>\n",
       "      <td>4.1000</td>\n",
       "      <td>143.8500</td>\n",
       "      <td>21.4167</td>\n",
       "      <td>2017-12-23 00:00:00</td>\n",
       "      <td>Active</td>\n",
       "      <td>1519.0</td>\n",
       "      <td>2017-12-07 08:34:36</td>\n",
       "      <td>franchise</td>\n",
       "      <td>PRICE_PLAN_GROUP_0</td>\n",
       "    </tr>\n",
       "    <tr>\n",
       "      <td>2</td>\n",
       "      <td>79201</td>\n",
       "      <td>2018-07-30</td>\n",
       "      <td>278.01</td>\n",
       "      <td>1585.0</td>\n",
       "      <td>350.0</td>\n",
       "      <td>1.0</td>\n",
       "      <td>350.0</td>\n",
       "      <td>350.0</td>\n",
       "      <td>118.19</td>\n",
       "      <td>218.23</td>\n",
       "      <td>...</td>\n",
       "      <td>405.3333</td>\n",
       "      <td>52.3333</td>\n",
       "      <td>181.4667</td>\n",
       "      <td>5.4167</td>\n",
       "      <td>2017-12-23 00:00:00</td>\n",
       "      <td>Active</td>\n",
       "      <td>1519.0</td>\n",
       "      <td>2017-12-07 08:34:36</td>\n",
       "      <td>franchise</td>\n",
       "      <td>PRICE_PLAN_GROUP_0</td>\n",
       "    </tr>\n",
       "    <tr>\n",
       "      <td>3</td>\n",
       "      <td>79201</td>\n",
       "      <td>2018-04-02</td>\n",
       "      <td>252.84</td>\n",
       "      <td>1466.0</td>\n",
       "      <td>360.0</td>\n",
       "      <td>1.0</td>\n",
       "      <td>360.0</td>\n",
       "      <td>360.0</td>\n",
       "      <td>81.69</td>\n",
       "      <td>287.84</td>\n",
       "      <td>...</td>\n",
       "      <td>172.3000</td>\n",
       "      <td>4.0167</td>\n",
       "      <td>249.4500</td>\n",
       "      <td>7.9333</td>\n",
       "      <td>2017-12-23 00:00:00</td>\n",
       "      <td>Active</td>\n",
       "      <td>1519.0</td>\n",
       "      <td>2017-12-07 08:34:36</td>\n",
       "      <td>franchise</td>\n",
       "      <td>PRICE_PLAN_GROUP_0</td>\n",
       "    </tr>\n",
       "    <tr>\n",
       "      <td>4</td>\n",
       "      <td>79201</td>\n",
       "      <td>2018-05-14</td>\n",
       "      <td>95.84</td>\n",
       "      <td>1508.0</td>\n",
       "      <td>0.0</td>\n",
       "      <td>0.0</td>\n",
       "      <td>0.0</td>\n",
       "      <td>0.0</td>\n",
       "      <td>107.19</td>\n",
       "      <td>145.84</td>\n",
       "      <td>...</td>\n",
       "      <td>218.3333</td>\n",
       "      <td>2.7667</td>\n",
       "      <td>95.4833</td>\n",
       "      <td>4.6500</td>\n",
       "      <td>2017-12-23 00:00:00</td>\n",
       "      <td>Active</td>\n",
       "      <td>1519.0</td>\n",
       "      <td>2017-12-07 08:34:36</td>\n",
       "      <td>franchise</td>\n",
       "      <td>PRICE_PLAN_GROUP_0</td>\n",
       "    </tr>\n",
       "  </tbody>\n",
       "</table>\n",
       "<p>5 rows × 32 columns</p>\n",
       "</div>"
      ],
      "text/plain": [
       "   SUBSCRIBER_ID    TIME_KEY  LAST_BALANCE    LT_x  SUM_RECHARGE  \\\n",
       "0          79201  2018-07-09        206.01  1564.0           0.0   \n",
       "1          79201  2018-03-12        186.00  1445.0           0.0   \n",
       "2          79201  2018-07-30        278.01  1585.0         350.0   \n",
       "3          79201  2018-04-02        252.84  1466.0         360.0   \n",
       "4          79201  2018-05-14         95.84  1508.0           0.0   \n",
       "\n",
       "   COUNT_RECHARGE  MAX_RECHARGE  MIN_RECHARGE    ARPU  AVG_BALANCE  ...  \\\n",
       "0             0.0           0.0           0.0   81.69       241.01  ...   \n",
       "1             0.0           0.0           0.0   87.50       227.50  ...   \n",
       "2             1.0         350.0         350.0  118.19       218.23  ...   \n",
       "3             1.0         360.0         360.0   81.69       287.84  ...   \n",
       "4             0.0           0.0           0.0  107.19       145.84  ...   \n",
       "\n",
       "   OUT_LOCAL_ONNET  OUT_LOCAL_OFFNET  IN_LOCAL_ONNET  IN_LOCAL_OFFNET  \\\n",
       "0         102.1500           14.4500        120.5333           8.7167   \n",
       "1         272.7667            4.1000        143.8500          21.4167   \n",
       "2         405.3333           52.3333        181.4667           5.4167   \n",
       "3         172.3000            4.0167        249.4500           7.9333   \n",
       "4         218.3333            2.7667         95.4833           4.6500   \n",
       "\n",
       "   PRICE_PLAN_CHANGE_DATE  STATUS    LT_y  LAST_DEVICE_CHANGE_DATE    CHANNEL  \\\n",
       "0     2017-12-23 00:00:00  Active  1519.0      2017-12-07 08:34:36  franchise   \n",
       "1     2017-12-23 00:00:00  Active  1519.0      2017-12-07 08:34:36  franchise   \n",
       "2     2017-12-23 00:00:00  Active  1519.0      2017-12-07 08:34:36  franchise   \n",
       "3     2017-12-23 00:00:00  Active  1519.0      2017-12-07 08:34:36  franchise   \n",
       "4     2017-12-23 00:00:00  Active  1519.0      2017-12-07 08:34:36  franchise   \n",
       "\n",
       "     PRICE_PLAN_GROUP  \n",
       "0  PRICE_PLAN_GROUP_0  \n",
       "1  PRICE_PLAN_GROUP_0  \n",
       "2  PRICE_PLAN_GROUP_0  \n",
       "3  PRICE_PLAN_GROUP_0  \n",
       "4  PRICE_PLAN_GROUP_0  \n",
       "\n",
       "[5 rows x 32 columns]"
      ]
     },
     "execution_count": 15,
     "metadata": {},
     "output_type": "execute_result"
    },
    {
     "data": {
      "text/html": [
       "<div>\n",
       "<style scoped>\n",
       "    .dataframe tbody tr th:only-of-type {\n",
       "        vertical-align: middle;\n",
       "    }\n",
       "\n",
       "    .dataframe tbody tr th {\n",
       "        vertical-align: top;\n",
       "    }\n",
       "\n",
       "    .dataframe thead th {\n",
       "        text-align: right;\n",
       "    }\n",
       "</style>\n",
       "<table border=\"1\" class=\"dataframe\">\n",
       "  <thead>\n",
       "    <tr style=\"text-align: right;\">\n",
       "      <th></th>\n",
       "      <th>SUBSCRIBER_ID</th>\n",
       "      <th>TIME_KEY</th>\n",
       "      <th>LAST_BALANCE</th>\n",
       "      <th>LT_x</th>\n",
       "      <th>SUM_RECHARGE</th>\n",
       "      <th>COUNT_RECHARGE</th>\n",
       "      <th>MAX_RECHARGE</th>\n",
       "      <th>MIN_RECHARGE</th>\n",
       "      <th>ARPU</th>\n",
       "      <th>AVG_BALANCE</th>\n",
       "      <th>...</th>\n",
       "      <th>OUT_LOCAL_ONNET</th>\n",
       "      <th>OUT_LOCAL_OFFNET</th>\n",
       "      <th>IN_LOCAL_ONNET</th>\n",
       "      <th>IN_LOCAL_OFFNET</th>\n",
       "      <th>PRICE_PLAN_CHANGE_DATE</th>\n",
       "      <th>STATUS</th>\n",
       "      <th>LT_y</th>\n",
       "      <th>LAST_DEVICE_CHANGE_DATE</th>\n",
       "      <th>CHANNEL</th>\n",
       "      <th>PRICE_PLAN_GROUP</th>\n",
       "    </tr>\n",
       "  </thead>\n",
       "  <tbody>\n",
       "    <tr>\n",
       "      <td>0</td>\n",
       "      <td>79201</td>\n",
       "      <td>2018-07-09</td>\n",
       "      <td>206.01</td>\n",
       "      <td>1564.0</td>\n",
       "      <td>0.0</td>\n",
       "      <td>0.0</td>\n",
       "      <td>0.0</td>\n",
       "      <td>0.0</td>\n",
       "      <td>81.69</td>\n",
       "      <td>241.01</td>\n",
       "      <td>...</td>\n",
       "      <td>102.1500</td>\n",
       "      <td>14.4500</td>\n",
       "      <td>120.5333</td>\n",
       "      <td>8.7167</td>\n",
       "      <td>2017-12-23 00:00:00</td>\n",
       "      <td>Active</td>\n",
       "      <td>1519.0</td>\n",
       "      <td>2017-12-07 08:34:36</td>\n",
       "      <td>franchise</td>\n",
       "      <td>PRICE_PLAN_GROUP_0</td>\n",
       "    </tr>\n",
       "    <tr>\n",
       "      <td>1</td>\n",
       "      <td>79201</td>\n",
       "      <td>2018-03-12</td>\n",
       "      <td>186.00</td>\n",
       "      <td>1445.0</td>\n",
       "      <td>0.0</td>\n",
       "      <td>0.0</td>\n",
       "      <td>0.0</td>\n",
       "      <td>0.0</td>\n",
       "      <td>87.50</td>\n",
       "      <td>227.50</td>\n",
       "      <td>...</td>\n",
       "      <td>272.7667</td>\n",
       "      <td>4.1000</td>\n",
       "      <td>143.8500</td>\n",
       "      <td>21.4167</td>\n",
       "      <td>2017-12-23 00:00:00</td>\n",
       "      <td>Active</td>\n",
       "      <td>1519.0</td>\n",
       "      <td>2017-12-07 08:34:36</td>\n",
       "      <td>franchise</td>\n",
       "      <td>PRICE_PLAN_GROUP_0</td>\n",
       "    </tr>\n",
       "    <tr>\n",
       "      <td>2</td>\n",
       "      <td>79201</td>\n",
       "      <td>2018-07-30</td>\n",
       "      <td>278.01</td>\n",
       "      <td>1585.0</td>\n",
       "      <td>350.0</td>\n",
       "      <td>1.0</td>\n",
       "      <td>350.0</td>\n",
       "      <td>350.0</td>\n",
       "      <td>118.19</td>\n",
       "      <td>218.23</td>\n",
       "      <td>...</td>\n",
       "      <td>405.3333</td>\n",
       "      <td>52.3333</td>\n",
       "      <td>181.4667</td>\n",
       "      <td>5.4167</td>\n",
       "      <td>2017-12-23 00:00:00</td>\n",
       "      <td>Active</td>\n",
       "      <td>1519.0</td>\n",
       "      <td>2017-12-07 08:34:36</td>\n",
       "      <td>franchise</td>\n",
       "      <td>PRICE_PLAN_GROUP_0</td>\n",
       "    </tr>\n",
       "    <tr>\n",
       "      <td>3</td>\n",
       "      <td>79201</td>\n",
       "      <td>2018-04-02</td>\n",
       "      <td>252.84</td>\n",
       "      <td>1466.0</td>\n",
       "      <td>360.0</td>\n",
       "      <td>1.0</td>\n",
       "      <td>360.0</td>\n",
       "      <td>360.0</td>\n",
       "      <td>81.69</td>\n",
       "      <td>287.84</td>\n",
       "      <td>...</td>\n",
       "      <td>172.3000</td>\n",
       "      <td>4.0167</td>\n",
       "      <td>249.4500</td>\n",
       "      <td>7.9333</td>\n",
       "      <td>2017-12-23 00:00:00</td>\n",
       "      <td>Active</td>\n",
       "      <td>1519.0</td>\n",
       "      <td>2017-12-07 08:34:36</td>\n",
       "      <td>franchise</td>\n",
       "      <td>PRICE_PLAN_GROUP_0</td>\n",
       "    </tr>\n",
       "    <tr>\n",
       "      <td>4</td>\n",
       "      <td>79201</td>\n",
       "      <td>2018-05-14</td>\n",
       "      <td>95.84</td>\n",
       "      <td>1508.0</td>\n",
       "      <td>0.0</td>\n",
       "      <td>0.0</td>\n",
       "      <td>0.0</td>\n",
       "      <td>0.0</td>\n",
       "      <td>107.19</td>\n",
       "      <td>145.84</td>\n",
       "      <td>...</td>\n",
       "      <td>218.3333</td>\n",
       "      <td>2.7667</td>\n",
       "      <td>95.4833</td>\n",
       "      <td>4.6500</td>\n",
       "      <td>2017-12-23 00:00:00</td>\n",
       "      <td>Active</td>\n",
       "      <td>1519.0</td>\n",
       "      <td>2017-12-07 08:34:36</td>\n",
       "      <td>franchise</td>\n",
       "      <td>PRICE_PLAN_GROUP_0</td>\n",
       "    </tr>\n",
       "  </tbody>\n",
       "</table>\n",
       "<p>5 rows × 32 columns</p>\n",
       "</div>"
      ],
      "text/plain": [
       "   SUBSCRIBER_ID    TIME_KEY  LAST_BALANCE    LT_x  SUM_RECHARGE  \\\n",
       "0          79201  2018-07-09        206.01  1564.0           0.0   \n",
       "1          79201  2018-03-12        186.00  1445.0           0.0   \n",
       "2          79201  2018-07-30        278.01  1585.0         350.0   \n",
       "3          79201  2018-04-02        252.84  1466.0         360.0   \n",
       "4          79201  2018-05-14         95.84  1508.0           0.0   \n",
       "\n",
       "   COUNT_RECHARGE  MAX_RECHARGE  MIN_RECHARGE    ARPU  AVG_BALANCE  ...  \\\n",
       "0             0.0           0.0           0.0   81.69       241.01  ...   \n",
       "1             0.0           0.0           0.0   87.50       227.50  ...   \n",
       "2             1.0         350.0         350.0  118.19       218.23  ...   \n",
       "3             1.0         360.0         360.0   81.69       287.84  ...   \n",
       "4             0.0           0.0           0.0  107.19       145.84  ...   \n",
       "\n",
       "   OUT_LOCAL_ONNET  OUT_LOCAL_OFFNET  IN_LOCAL_ONNET  IN_LOCAL_OFFNET  \\\n",
       "0         102.1500           14.4500        120.5333           8.7167   \n",
       "1         272.7667            4.1000        143.8500          21.4167   \n",
       "2         405.3333           52.3333        181.4667           5.4167   \n",
       "3         172.3000            4.0167        249.4500           7.9333   \n",
       "4         218.3333            2.7667         95.4833           4.6500   \n",
       "\n",
       "   PRICE_PLAN_CHANGE_DATE  STATUS    LT_y  LAST_DEVICE_CHANGE_DATE    CHANNEL  \\\n",
       "0     2017-12-23 00:00:00  Active  1519.0      2017-12-07 08:34:36  franchise   \n",
       "1     2017-12-23 00:00:00  Active  1519.0      2017-12-07 08:34:36  franchise   \n",
       "2     2017-12-23 00:00:00  Active  1519.0      2017-12-07 08:34:36  franchise   \n",
       "3     2017-12-23 00:00:00  Active  1519.0      2017-12-07 08:34:36  franchise   \n",
       "4     2017-12-23 00:00:00  Active  1519.0      2017-12-07 08:34:36  franchise   \n",
       "\n",
       "     PRICE_PLAN_GROUP  \n",
       "0  PRICE_PLAN_GROUP_0  \n",
       "1  PRICE_PLAN_GROUP_0  \n",
       "2  PRICE_PLAN_GROUP_0  \n",
       "3  PRICE_PLAN_GROUP_0  \n",
       "4  PRICE_PLAN_GROUP_0  \n",
       "\n",
       "[5 rows x 32 columns]"
      ]
     },
     "execution_count": 15,
     "metadata": {},
     "output_type": "execute_result"
    }
   ],
   "source": [
    "data.head()"
   ]
  },
  {
   "cell_type": "code",
   "execution_count": 16,
   "metadata": {
    "colab": {
     "base_uri": "https://localhost:8080/",
     "height": 34
    },
    "colab_type": "code",
    "id": "PY1KtapPuKGK",
    "outputId": "22069763-fe44-4bb7-9f70-479f461f9c11"
   },
   "outputs": [
    {
     "data": {
      "text/plain": [
       "(5270704, 32)"
      ]
     },
     "execution_count": 16,
     "metadata": {},
     "output_type": "execute_result"
    },
    {
     "data": {
      "text/plain": [
       "(5270704, 32)"
      ]
     },
     "execution_count": 16,
     "metadata": {},
     "output_type": "execute_result"
    }
   ],
   "source": [
    "data.shape"
   ]
  },
  {
   "cell_type": "code",
   "execution_count": 17,
   "metadata": {
    "colab": {},
    "colab_type": "code",
    "id": "TyK-VTN7uKGM"
   },
   "outputs": [],
   "source": [
    "data.TIME_KEY = pd.to_datetime(data.TIME_KEY) # creating month and day of info feature\n",
    "#data[\"month\"] = data.TIME_KEY.map(lambda x: x.month)\n",
    "#data[\"day\"] = data.TIME_KEY.map(lambda x: x.day)\n",
    "#data.drop(columns=['TIME_KEY'], inplace=True)"
   ]
  },
  {
   "cell_type": "code",
   "execution_count": 18,
   "metadata": {
    "colab": {},
    "colab_type": "code",
    "id": "xLnv23gGuKGN"
   },
   "outputs": [],
   "source": [
    "data.sort_values(by = 'TIME_KEY', inplace = True)"
   ]
  },
  {
   "cell_type": "code",
   "execution_count": 19,
   "metadata": {
    "colab": {},
    "colab_type": "code",
    "id": "h_4JG2JtuKGO"
   },
   "outputs": [],
   "source": [
    "#plt.plot(data[data.SUBSCRIBER_ID == 79201].TIME_KEY, data[data.SUBSCRIBER_ID == 79201].ARPU)"
   ]
  },
  {
   "cell_type": "code",
   "execution_count": 20,
   "metadata": {
    "colab": {},
    "colab_type": "code",
    "id": "t_uWO1r5uKGP"
   },
   "outputs": [],
   "source": [
    "#data = data[(data.ARPU > 0) & (data.ARPU < 600)] # clrearing data"
   ]
  },
  {
   "cell_type": "code",
   "execution_count": 21,
   "metadata": {
    "colab": {},
    "colab_type": "code",
    "id": "LYyYVfEcuKGQ"
   },
   "outputs": [],
   "source": [
    "#plt.figure(dpi = 100)\n",
    "#sns.distplot(data.ARPU.values)\n",
    "#plt.title('ARPU')"
   ]
  },
  {
   "cell_type": "code",
   "execution_count": 22,
   "metadata": {
    "colab": {},
    "colab_type": "code",
    "id": "1GSsGx1quKGS"
   },
   "outputs": [],
   "source": [
    "data.drop('LT_y', axis = 1, inplace = True) # constant for each customer"
   ]
  },
  {
   "cell_type": "code",
   "execution_count": 23,
   "metadata": {
    "colab": {},
    "colab_type": "code",
    "id": "c1Wk6En8uKGX"
   },
   "outputs": [],
   "source": [
    "X = pd.DataFrame(index=data.SUBSCRIBER_ID.unique())"
   ]
  },
  {
   "cell_type": "code",
   "execution_count": 24,
   "metadata": {
    "colab": {},
    "colab_type": "code",
    "id": "6Kdl_u3WuKGY"
   },
   "outputs": [],
   "source": [
    "X[\"LT\"] = data.groupby(by=\"SUBSCRIBER_ID\").LT_x.max()"
   ]
  },
  {
   "cell_type": "code",
   "execution_count": 25,
   "metadata": {
    "colab": {},
    "colab_type": "code",
    "id": "LuPyJ0NxuKGY"
   },
   "outputs": [],
   "source": [
    "X['mean_recharge'] = data.groupby(by=\"SUBSCRIBER_ID\").SUM_RECHARGE.mean()"
   ]
  },
  {
   "cell_type": "code",
   "execution_count": 26,
   "metadata": {
    "colab": {},
    "colab_type": "code",
    "id": "jBIyMHRYuKGZ"
   },
   "outputs": [],
   "source": [
    "X['sum_rechrges'] = data.groupby(by=\"SUBSCRIBER_ID\").COUNT_RECHARGE.sum()"
   ]
  },
  {
   "cell_type": "code",
   "execution_count": 27,
   "metadata": {
    "colab": {},
    "colab_type": "code",
    "id": "24p1sJCnuKGa"
   },
   "outputs": [],
   "source": [
    "X['mean_max_recharge'] = data.groupby(by=\"SUBSCRIBER_ID\").MAX_RECHARGE.mean()"
   ]
  },
  {
   "cell_type": "code",
   "execution_count": 28,
   "metadata": {
    "colab": {},
    "colab_type": "code",
    "id": "JM51MnRwuKGb"
   },
   "outputs": [],
   "source": [
    "X['mean_min_recharge'] = data.groupby(by=\"SUBSCRIBER_ID\").MIN_RECHARGE.mean()"
   ]
  },
  {
   "cell_type": "code",
   "execution_count": 29,
   "metadata": {
    "colab": {},
    "colab_type": "code",
    "id": "EsotQ7_1uKGb"
   },
   "outputs": [],
   "source": [
    "#X['mean_ARPU'] = data.groupby(by=\"SUBSCRIBER_ID\").ARPU.mean()\n"
   ]
  },
  {
   "cell_type": "code",
   "execution_count": 30,
   "metadata": {
    "colab": {},
    "colab_type": "code",
    "id": "B9U7BFNCuKGc"
   },
   "outputs": [],
   "source": [
    "X['mean_balance'] = data.groupby(by=\"SUBSCRIBER_ID\").AVG_BALANCE.mean()"
   ]
  },
  {
   "cell_type": "code",
   "execution_count": 31,
   "metadata": {
    "colab": {},
    "colab_type": "code",
    "id": "sPrUYlxUuKGd"
   },
   "outputs": [],
   "source": [
    "X['mean_max_balance'] = data.groupby(by=\"SUBSCRIBER_ID\").MAX_BALANCE.mean()"
   ]
  },
  {
   "cell_type": "code",
   "execution_count": 32,
   "metadata": {
    "colab": {},
    "colab_type": "code",
    "id": "3nWvYXNKuKGd"
   },
   "outputs": [],
   "source": [
    "X['mean_min_balance'] = data.groupby(by=\"SUBSCRIBER_ID\").MIN_BALANCE.mean()"
   ]
  },
  {
   "cell_type": "code",
   "execution_count": 33,
   "metadata": {
    "colab": {},
    "colab_type": "code",
    "id": "lXVihpGBuKGe"
   },
   "outputs": [],
   "source": [
    "X['mean_AVG_BALANCE_BEFORE_RECHARGE'] = data.groupby(by=\"SUBSCRIBER_ID\").AVG_BALANCE_BEFORE_RECHARGE.mean()"
   ]
  },
  {
   "cell_type": "code",
   "execution_count": 34,
   "metadata": {
    "colab": {},
    "colab_type": "code",
    "id": "Rz2bpfORuKGf"
   },
   "outputs": [],
   "source": [
    "X['mean_HOURS_FROM_LAST_RECHARGE'] = data.groupby(by=\"SUBSCRIBER_ID\").HOURS_FROM_LAST_RECHARGE.mean()"
   ]
  },
  {
   "cell_type": "code",
   "execution_count": 35,
   "metadata": {
    "colab": {},
    "colab_type": "code",
    "id": "xyTXJorvuKGf"
   },
   "outputs": [],
   "source": [
    "X['mean_traffic'] = data.groupby(by=\"SUBSCRIBER_ID\").DATA_TRAFFIC.mean()"
   ]
  },
  {
   "cell_type": "code",
   "execution_count": 36,
   "metadata": {
    "colab": {},
    "colab_type": "code",
    "id": "7kVNV7bhuKGg"
   },
   "outputs": [],
   "source": [
    "X['mean_COUNT_SMS_OUT'] = data.groupby(by=\"SUBSCRIBER_ID\").COUNT_SMS_OUT.mean()"
   ]
  },
  {
   "cell_type": "code",
   "execution_count": 37,
   "metadata": {
    "colab": {},
    "colab_type": "code",
    "id": "RtYLVUR6uKGh"
   },
   "outputs": [],
   "source": [
    "X['mean_TOTAL_OUT'] = data.groupby(by=\"SUBSCRIBER_ID\").TOTAL_OUT.mean()"
   ]
  },
  {
   "cell_type": "code",
   "execution_count": 38,
   "metadata": {
    "colab": {},
    "colab_type": "code",
    "id": "4FVIq6qNuKGi"
   },
   "outputs": [],
   "source": [
    "X['mean_TOTAL_IN'] = data.groupby(by=\"SUBSCRIBER_ID\").TOTAL_IN.mean()"
   ]
  },
  {
   "cell_type": "code",
   "execution_count": 39,
   "metadata": {
    "colab": {},
    "colab_type": "code",
    "id": "nY5zojZ7uKGi"
   },
   "outputs": [],
   "source": [
    "X['mean_UNIQUE_NUM'] = data.groupby(by=\"SUBSCRIBER_ID\").UNIQUE_NUMBERS.mean()"
   ]
  },
  {
   "cell_type": "code",
   "execution_count": 40,
   "metadata": {
    "colab": {},
    "colab_type": "code",
    "id": "pC2U8BJjuKGj"
   },
   "outputs": [],
   "source": [
    "X['mean_DAYS_IN_BLOCK'] = data.groupby(by=\"SUBSCRIBER_ID\").DAYS_IN_BLOCK.mean()"
   ]
  },
  {
   "cell_type": "code",
   "execution_count": 41,
   "metadata": {
    "colab": {},
    "colab_type": "code",
    "id": "2BgLJM66uKGj"
   },
   "outputs": [],
   "source": [
    "X['mean_DAYS_WITH_TRANSACTIONS'] = data.groupby(by=\"SUBSCRIBER_ID\").DAYS_WITH_TRANSACTIONS.mean()"
   ]
  },
  {
   "cell_type": "code",
   "execution_count": 42,
   "metadata": {
    "colab": {},
    "colab_type": "code",
    "id": "M30PiMdyuKGk"
   },
   "outputs": [],
   "source": [
    "X['mean_OUT_ONNET'] = data.groupby(by=\"SUBSCRIBER_ID\").OUT_ONNET.mean()"
   ]
  },
  {
   "cell_type": "code",
   "execution_count": 43,
   "metadata": {
    "colab": {},
    "colab_type": "code",
    "id": "UO7K6oyjuKGk"
   },
   "outputs": [],
   "source": [
    "X['mean_OUT_LOCAL_ONNET'] = data.groupby(by=\"SUBSCRIBER_ID\").OUT_LOCAL_ONNET.mean()"
   ]
  },
  {
   "cell_type": "code",
   "execution_count": 44,
   "metadata": {
    "colab": {},
    "colab_type": "code",
    "id": "6akkvkfxuKGl"
   },
   "outputs": [],
   "source": [
    "X['mean_OUT_LOCAL_OFFNET'] = data.groupby(by=\"SUBSCRIBER_ID\").OUT_LOCAL_OFFNET.mean()"
   ]
  },
  {
   "cell_type": "code",
   "execution_count": 45,
   "metadata": {
    "colab": {},
    "colab_type": "code",
    "id": "7-HJMjcYuKGm"
   },
   "outputs": [],
   "source": [
    "X['mean_IN_LOCAL_ONNET'] = data.groupby(by=\"SUBSCRIBER_ID\").IN_LOCAL_ONNET.mean()"
   ]
  },
  {
   "cell_type": "code",
   "execution_count": 46,
   "metadata": {
    "colab": {},
    "colab_type": "code",
    "id": "pCZRLo6QuKGm"
   },
   "outputs": [],
   "source": [
    "X['mean_IN_LOCAL_OFFNET'] = data.groupby(by=\"SUBSCRIBER_ID\").IN_LOCAL_OFFNET.mean()"
   ]
  },
  {
   "cell_type": "code",
   "execution_count": 47,
   "metadata": {
    "colab": {},
    "colab_type": "code",
    "id": "JSK_dOWQuKGn"
   },
   "outputs": [],
   "source": [
    "data.STATUS = data.STATUS.apply(lambda x: 1 if x == \"active\" else 0)"
   ]
  },
  {
   "cell_type": "code",
   "execution_count": 48,
   "metadata": {
    "colab": {},
    "colab_type": "code",
    "id": "uRirwT4ZuKGn"
   },
   "outputs": [],
   "source": [
    "X['status'] = data.groupby(by=\"SUBSCRIBER_ID\").STATUS.max()"
   ]
  },
  {
   "cell_type": "code",
   "execution_count": 49,
   "metadata": {
    "colab": {},
    "colab_type": "code",
    "id": "Owb2vx3vuKGo"
   },
   "outputs": [],
   "source": [
    "data.LAST_DEVICE_CHANGE_DATE = pd.to_datetime(data.LAST_DEVICE_CHANGE_DATE)"
   ]
  },
  {
   "cell_type": "code",
   "execution_count": 50,
   "metadata": {
    "colab": {},
    "colab_type": "code",
    "id": "02t0fQKQuKGp"
   },
   "outputs": [],
   "source": [
    "data['days_from_dev_ch'] = data['TIME_KEY'].subtract(data['LAST_DEVICE_CHANGE_DATE']).astype('timedelta64[D]')"
   ]
  },
  {
   "cell_type": "code",
   "execution_count": 51,
   "metadata": {
    "colab": {},
    "colab_type": "code",
    "id": "uphDZHdGuKGq"
   },
   "outputs": [],
   "source": [
    "X['days_from_dev_ch'] = data.groupby(by=\"SUBSCRIBER_ID\").days_from_dev_ch.max()"
   ]
  },
  {
   "cell_type": "code",
   "execution_count": 52,
   "metadata": {
    "colab": {},
    "colab_type": "code",
    "id": "y60d53xjuKGr"
   },
   "outputs": [],
   "source": [
    "data = pd.get_dummies(data, drop_first=True, prefix=[\"chanel\"],columns=[\"CHANNEL\"])"
   ]
  },
  {
   "cell_type": "code",
   "execution_count": 53,
   "metadata": {
    "colab": {},
    "colab_type": "code",
    "id": "nIiKuAhIuKGs"
   },
   "outputs": [],
   "source": [
    "for i in ['chanel_b2c_agent',\n",
    "       'chanel_dealer', 'chanel_digital', 'chanel_electronics_store',\n",
    "       'chanel_franchise', 'chanel_own_office', 'chanel_retail_evroset',\n",
    "       'chanel_retail_other', 'chanel_retail_svyaznoy', 'chanel_sampling']:\n",
    "    X[i] = data.groupby(by=\"SUBSCRIBER_ID\")[i].max()"
   ]
  },
  {
   "cell_type": "code",
   "execution_count": 54,
   "metadata": {
    "colab": {},
    "colab_type": "code",
    "id": "zjsGmxhruKGs"
   },
   "outputs": [],
   "source": [
    "data = pd.get_dummies(data, drop_first=True,columns=[\"PRICE_PLAN_GROUP\"])"
   ]
  },
  {
   "cell_type": "code",
   "execution_count": 55,
   "metadata": {
    "colab": {},
    "colab_type": "code",
    "id": "jGYMxHFYuKGt"
   },
   "outputs": [],
   "source": [
    "for i in ['PRICE_PLAN_GROUP_PRICE_PLAN_GROUP_1',\n",
    "       'PRICE_PLAN_GROUP_PRICE_PLAN_GROUP_2',\n",
    "       'PRICE_PLAN_GROUP_PRICE_PLAN_GROUP_3']:\n",
    "    X[i] = data.groupby(by=\"SUBSCRIBER_ID\")[i].max()"
   ]
  },
  {
   "cell_type": "code",
   "execution_count": 56,
   "metadata": {
    "colab": {},
    "colab_type": "code",
    "id": "jkxLraqhuKGu"
   },
   "outputs": [],
   "source": [
    "X = X.fillna(X.mean())"
   ]
  },
  {
   "cell_type": "code",
   "execution_count": 57,
   "metadata": {
    "colab": {
     "base_uri": "https://localhost:8080/",
     "height": 680
    },
    "colab_type": "code",
    "id": "bm2iMYWRuKGv",
    "outputId": "d7e486b9-5694-4a6d-8cbb-ece89db4fd2f"
   },
   "outputs": [
    {
     "data": {
      "text/plain": [
       "LT                                     0\n",
       "mean_recharge                          0\n",
       "sum_rechrges                           0\n",
       "mean_max_recharge                      0\n",
       "mean_min_recharge                      0\n",
       "mean_balance                           0\n",
       "mean_max_balance                       0\n",
       "mean_min_balance                       0\n",
       "mean_AVG_BALANCE_BEFORE_RECHARGE       0\n",
       "mean_HOURS_FROM_LAST_RECHARGE          0\n",
       "mean_traffic                           0\n",
       "mean_COUNT_SMS_OUT                     0\n",
       "mean_TOTAL_OUT                         0\n",
       "mean_TOTAL_IN                          0\n",
       "mean_UNIQUE_NUM                        0\n",
       "mean_DAYS_IN_BLOCK                     0\n",
       "mean_DAYS_WITH_TRANSACTIONS            0\n",
       "mean_OUT_ONNET                         0\n",
       "mean_OUT_LOCAL_ONNET                   0\n",
       "mean_OUT_LOCAL_OFFNET                  0\n",
       "mean_IN_LOCAL_ONNET                    0\n",
       "mean_IN_LOCAL_OFFNET                   0\n",
       "status                                 0\n",
       "days_from_dev_ch                       0\n",
       "chanel_b2c_agent                       0\n",
       "chanel_dealer                          0\n",
       "chanel_digital                         0\n",
       "chanel_electronics_store               0\n",
       "chanel_franchise                       0\n",
       "chanel_own_office                      0\n",
       "chanel_retail_evroset                  0\n",
       "chanel_retail_other                    0\n",
       "chanel_retail_svyaznoy                 0\n",
       "chanel_sampling                        0\n",
       "PRICE_PLAN_GROUP_PRICE_PLAN_GROUP_1    0\n",
       "PRICE_PLAN_GROUP_PRICE_PLAN_GROUP_2    0\n",
       "PRICE_PLAN_GROUP_PRICE_PLAN_GROUP_3    0\n",
       "dtype: int64"
      ]
     },
     "execution_count": 57,
     "metadata": {},
     "output_type": "execute_result"
    },
    {
     "data": {
      "text/plain": [
       "LT                                     0\n",
       "mean_recharge                          0\n",
       "sum_rechrges                           0\n",
       "mean_max_recharge                      0\n",
       "mean_min_recharge                      0\n",
       "mean_balance                           0\n",
       "mean_max_balance                       0\n",
       "mean_min_balance                       0\n",
       "mean_AVG_BALANCE_BEFORE_RECHARGE       0\n",
       "mean_HOURS_FROM_LAST_RECHARGE          0\n",
       "mean_traffic                           0\n",
       "mean_COUNT_SMS_OUT                     0\n",
       "mean_TOTAL_OUT                         0\n",
       "mean_TOTAL_IN                          0\n",
       "mean_UNIQUE_NUM                        0\n",
       "mean_DAYS_IN_BLOCK                     0\n",
       "mean_DAYS_WITH_TRANSACTIONS            0\n",
       "mean_OUT_ONNET                         0\n",
       "mean_OUT_LOCAL_ONNET                   0\n",
       "mean_OUT_LOCAL_OFFNET                  0\n",
       "mean_IN_LOCAL_ONNET                    0\n",
       "mean_IN_LOCAL_OFFNET                   0\n",
       "status                                 0\n",
       "days_from_dev_ch                       0\n",
       "chanel_b2c_agent                       0\n",
       "chanel_dealer                          0\n",
       "chanel_digital                         0\n",
       "chanel_electronics_store               0\n",
       "chanel_franchise                       0\n",
       "chanel_own_office                      0\n",
       "chanel_retail_evroset                  0\n",
       "chanel_retail_other                    0\n",
       "chanel_retail_svyaznoy                 0\n",
       "chanel_sampling                        0\n",
       "PRICE_PLAN_GROUP_PRICE_PLAN_GROUP_1    0\n",
       "PRICE_PLAN_GROUP_PRICE_PLAN_GROUP_2    0\n",
       "PRICE_PLAN_GROUP_PRICE_PLAN_GROUP_3    0\n",
       "dtype: int64"
      ]
     },
     "execution_count": 57,
     "metadata": {},
     "output_type": "execute_result"
    }
   ],
   "source": [
    "X.isna().sum()"
   ]
  },
  {
   "cell_type": "code",
   "execution_count": 58,
   "metadata": {
    "colab": {},
    "colab_type": "code",
    "id": "gwwb18XSuKGx"
   },
   "outputs": [],
   "source": [
    "from sklearn.preprocessing import StandardScaler\n",
    "X_std = StandardScaler().fit_transform(X)"
   ]
  },
  {
   "cell_type": "code",
   "execution_count": 59,
   "metadata": {
    "colab": {},
    "colab_type": "code",
    "id": "ZsL0xPnUuKGx"
   },
   "outputs": [],
   "source": [
    "#!pip install umap"
   ]
  },
  {
   "cell_type": "code",
   "execution_count": 61,
   "metadata": {
    "colab": {
     "base_uri": "https://localhost:8080/",
     "height": 71
    },
    "colab_type": "code",
    "id": "jp0dgKHVuKGy",
    "outputId": "1df8bdcf-72af-4f65-d12a-7060706a814c"
   },
   "outputs": [
    {
     "name": "stderr",
     "output_type": "stream",
     "text": [
      "/Users/saveliykholin/anaconda3/lib/python3.7/site-packages/umap/spectral.py:229: UserWarning: Embedding a total of 5 separate connected components using meta-embedding (experimental)\n",
      "  n_components\n",
      "/Users/saveliykholin/anaconda3/lib/python3.7/site-packages/sklearn/manifold/spectral_embedding_.py:235: UserWarning: Graph is not fully connected, spectral embedding may not work as expected.\n",
      "  warnings.warn(\"Graph is not fully connected, spectral embedding\"\n",
      "/Users/saveliykholin/anaconda3/lib/python3.7/site-packages/umap/spectral.py:229: UserWarning: Embedding a total of 5 separate connected components using meta-embedding (experimental)\n",
      "  n_components\n",
      "/Users/saveliykholin/anaconda3/lib/python3.7/site-packages/sklearn/manifold/spectral_embedding_.py:235: UserWarning: Graph is not fully connected, spectral embedding may not work as expected.\n",
      "  warnings.warn(\"Graph is not fully connected, spectral embedding\"\n"
     ]
    }
   ],
   "source": [
    "import umap\n",
    "clusterable_embedding = umap.UMAP(\n",
    "    #n_neighbors=30,\n",
    "    #min_dist=0.0,\n",
    "    n_components=2,\n",
    "    random_state=42,\n",
    ").fit_transform(X_std)"
   ]
  },
  {
   "cell_type": "code",
   "execution_count": 62,
   "metadata": {
    "colab": {
     "base_uri": "https://localhost:8080/",
     "height": 265
    },
    "colab_type": "code",
    "id": "0jHp3CqmuKGz",
    "outputId": "78d11f5e-f732-4653-ec61-730c60e8403c"
   },
   "outputs": [
    {
     "data": {
      "image/png": "[encoded data removed]",
      "text/plain": [
       "<Figure size 432x288 with 1 Axes>"
      ]
     },
     "metadata": {
      "needs_background": "light"
     },
     "output_type": "display_data"
    },
    {
     "data": {
      "image/png": "[encoded data removed]",
      "text/plain": [
       "<Figure size 432x288 with 1 Axes>"
      ]
     },
     "metadata": {
      "needs_background": "light"
     },
     "output_type": "display_data"
    }
   ],
   "source": [
    "plt.scatter(clusterable_embedding[:, 0], clusterable_embedding[:, 1], s=0.1, cmap='Spectral');"
   ]
  },
  {
   "cell_type": "code",
   "execution_count": 78,
   "metadata": {},
   "outputs": [],
   "source": [
    "from sklearn.decomposition import PCA\n",
    "pca = PCA(n_components=10).fit_transform(X_std)"
   ]
  },
  {
   "cell_type": "code",
   "execution_count": 79,
   "metadata": {},
   "outputs": [],
   "source": [
    "umap = umap.UMAP(\n",
    "    #n_neighbors=30,\n",
    "    #min_dist=0.0,\n",
    "    n_components=2,\n",
    "    random_state=42,\n",
    ").fit_transform(pca)"
   ]
  },
  {
   "cell_type": "code",
   "execution_count": 80,
   "metadata": {},
   "outputs": [
    {
     "data": {
      "image/png": "[encoded data removed]",
      "text/plain": [
       "<Figure size 432x288 with 1 Axes>"
      ]
     },
     "metadata": {
      "needs_background": "light"
     },
     "output_type": "display_data"
    },
    {
     "data": {
      "image/png": "[encoded data removed]",
      "text/plain": [
       "<Figure size 432x288 with 1 Axes>"
      ]
     },
     "metadata": {
      "needs_background": "light"
     },
     "output_type": "display_data"
    }
   ],
   "source": [
    "plt.scatter(umap[:, 0], umap[:, 1], s=0.1, cmap='Spectral');"
   ]
  },
  {
   "cell_type": "code",
   "execution_count": 81,
   "metadata": {},
   "outputs": [],
   "source": [
    "X[\"pcaumap0\"] = umap[:, 0]\n",
    "X[\"pcaumap1\"] = umap[:, 1]"
   ]
  },
  {
   "cell_type": "code",
   "execution_count": 91,
   "metadata": {},
   "outputs": [
    {
     "data": {
      "image/png": "[encoded data removed]",
      "text/plain": [
       "<Figure size 432x288 with 1 Axes>"
      ]
     },
     "metadata": {
      "needs_background": "light"
     },
     "output_type": "display_data"
    },
    {
     "data": {
      "image/png": "[encoded data removed]",
      "text/plain": [
       "<Figure size 432x288 with 1 Axes>"
      ]
     },
     "metadata": {
      "needs_background": "light"
     },
     "output_type": "display_data"
    }
   ],
   "source": [
    "pcaumap = pd.DataFrame(index = X.index)\n",
    "pcaumap['x'] = umap[:, 0]\n",
    "pcaumap['y'] = umap[:, 1]\n",
    "from sklearn.mixture import GaussianMixture\n",
    "\n",
    "pcaumap['cluster'] = GaussianMixture(n_components=6, max_iter = 100).fit_predict(pcaumap)\n",
    "plt.scatter(pcaumap.x,pcaumap.y, s=0.1, cmap='Spectral', c = pcaumap['cluster']);"
   ]
  },
  {
   "cell_type": "code",
   "execution_count": 92,
   "metadata": {},
   "outputs": [],
   "source": [
    "pcaumap.to_csv('pcaumap.csv', index = False)"
   ]
  },
  {
   "cell_type": "code",
   "execution_count": null,
   "metadata": {},
   "outputs": [],
   "source": []
  },
  {
   "cell_type": "code",
   "execution_count": null,
   "metadata": {
    "colab": {},
    "colab_type": "code",
    "id": "HBtfUSB7Egxy"
   },
   "outputs": [],
   "source": [
    "X[\"umap0\"] = clusterable_embedding[:, 0]\n",
    "X[\"umap1\"] = clusterable_embedding[:, 1]"
   ]
  },
  {
   "cell_type": "code",
   "execution_count": null,
   "metadata": {
    "colab": {},
    "colab_type": "code",
    "id": "_5KW2ywiHq_i"
   },
   "outputs": [],
   "source": [
    "from sklearn.mixture import GaussianMixture\n",
    "\n",
    "labels = GaussianMixture(n_components=8).fit_predict(embed)"
   ]
  },
  {
   "cell_type": "code",
   "execution_count": null,
   "metadata": {
    "colab": {
     "base_uri": "https://localhost:8080/",
     "height": 265
    },
    "colab_type": "code",
    "id": "8kZBIiHTKNw7",
    "outputId": "c47ce983-10d1-4d63-c9a7-da8a29dc308c"
   },
   "outputs": [],
   "source": [
    "plt.scatter(embed['umap0'], embed['umap1'], s=0.1, cmap='Spectral', c = labels);"
   ]
  },
  {
   "cell_type": "code",
   "execution_count": null,
   "metadata": {},
   "outputs": [],
   "source": []
  },
  {
   "cell_type": "code",
   "execution_count": 104,
   "metadata": {},
   "outputs": [],
   "source": [
    "pcaumap.drop('sub', axis = 1, inplace= True)\n",
    "pcaumap['SUBSCRIBER_ID'] = pcaumap.index\n"
   ]
  },
  {
   "cell_type": "code",
   "execution_count": 105,
   "metadata": {},
   "outputs": [
    {
     "data": {
      "text/html": [
       "<div>\n",
       "<style scoped>\n",
       "    .dataframe tbody tr th:only-of-type {\n",
       "        vertical-align: middle;\n",
       "    }\n",
       "\n",
       "    .dataframe tbody tr th {\n",
       "        vertical-align: top;\n",
       "    }\n",
       "\n",
       "    .dataframe thead th {\n",
       "        text-align: right;\n",
       "    }\n",
       "</style>\n",
       "<table border=\"1\" class=\"dataframe\">\n",
       "  <thead>\n",
       "    <tr style=\"text-align: right;\">\n",
       "      <th></th>\n",
       "      <th>x</th>\n",
       "      <th>y</th>\n",
       "      <th>cluster</th>\n",
       "      <th>SUBSCRIBER_ID</th>\n",
       "    </tr>\n",
       "  </thead>\n",
       "  <tbody>\n",
       "    <tr>\n",
       "      <td>227111</td>\n",
       "      <td>-8.282953</td>\n",
       "      <td>-3.178072</td>\n",
       "      <td>4</td>\n",
       "      <td>227111</td>\n",
       "    </tr>\n",
       "    <tr>\n",
       "      <td>155600</td>\n",
       "      <td>2.191787</td>\n",
       "      <td>7.421016</td>\n",
       "      <td>0</td>\n",
       "      <td>155600</td>\n",
       "    </tr>\n",
       "    <tr>\n",
       "      <td>18505</td>\n",
       "      <td>-7.984584</td>\n",
       "      <td>-0.283080</td>\n",
       "      <td>4</td>\n",
       "      <td>18505</td>\n",
       "    </tr>\n",
       "    <tr>\n",
       "      <td>132452</td>\n",
       "      <td>11.633231</td>\n",
       "      <td>-2.305085</td>\n",
       "      <td>3</td>\n",
       "      <td>132452</td>\n",
       "    </tr>\n",
       "    <tr>\n",
       "      <td>62851</td>\n",
       "      <td>10.977854</td>\n",
       "      <td>-4.192509</td>\n",
       "      <td>3</td>\n",
       "      <td>62851</td>\n",
       "    </tr>\n",
       "  </tbody>\n",
       "</table>\n",
       "</div>"
      ],
      "text/plain": [
       "                x         y  cluster  SUBSCRIBER_ID\n",
       "227111  -8.282953 -3.178072        4         227111\n",
       "155600   2.191787  7.421016        0         155600\n",
       "18505   -7.984584 -0.283080        4          18505\n",
       "132452  11.633231 -2.305085        3         132452\n",
       "62851   10.977854 -4.192509        3          62851"
      ]
     },
     "execution_count": 105,
     "metadata": {},
     "output_type": "execute_result"
    },
    {
     "data": {
      "text/html": [
       "<div>\n",
       "<style scoped>\n",
       "    .dataframe tbody tr th:only-of-type {\n",
       "        vertical-align: middle;\n",
       "    }\n",
       "\n",
       "    .dataframe tbody tr th {\n",
       "        vertical-align: top;\n",
       "    }\n",
       "\n",
       "    .dataframe thead th {\n",
       "        text-align: right;\n",
       "    }\n",
       "</style>\n",
       "<table border=\"1\" class=\"dataframe\">\n",
       "  <thead>\n",
       "    <tr style=\"text-align: right;\">\n",
       "      <th></th>\n",
       "      <th>x</th>\n",
       "      <th>y</th>\n",
       "      <th>cluster</th>\n",
       "      <th>SUBSCRIBER_ID</th>\n",
       "    </tr>\n",
       "  </thead>\n",
       "  <tbody>\n",
       "    <tr>\n",
       "      <td>227111</td>\n",
       "      <td>-8.282953</td>\n",
       "      <td>-3.178072</td>\n",
       "      <td>4</td>\n",
       "      <td>227111</td>\n",
       "    </tr>\n",
       "    <tr>\n",
       "      <td>155600</td>\n",
       "      <td>2.191787</td>\n",
       "      <td>7.421016</td>\n",
       "      <td>0</td>\n",
       "      <td>155600</td>\n",
       "    </tr>\n",
       "    <tr>\n",
       "      <td>18505</td>\n",
       "      <td>-7.984584</td>\n",
       "      <td>-0.283080</td>\n",
       "      <td>4</td>\n",
       "      <td>18505</td>\n",
       "    </tr>\n",
       "    <tr>\n",
       "      <td>132452</td>\n",
       "      <td>11.633231</td>\n",
       "      <td>-2.305085</td>\n",
       "      <td>3</td>\n",
       "      <td>132452</td>\n",
       "    </tr>\n",
       "    <tr>\n",
       "      <td>62851</td>\n",
       "      <td>10.977854</td>\n",
       "      <td>-4.192509</td>\n",
       "      <td>3</td>\n",
       "      <td>62851</td>\n",
       "    </tr>\n",
       "  </tbody>\n",
       "</table>\n",
       "</div>"
      ],
      "text/plain": [
       "                x         y  cluster  SUBSCRIBER_ID\n",
       "227111  -8.282953 -3.178072        4         227111\n",
       "155600   2.191787  7.421016        0         155600\n",
       "18505   -7.984584 -0.283080        4          18505\n",
       "132452  11.633231 -2.305085        3         132452\n",
       "62851   10.977854 -4.192509        3          62851"
      ]
     },
     "execution_count": 105,
     "metadata": {},
     "output_type": "execute_result"
    }
   ],
   "source": [
    "pcaumap.head()"
   ]
  },
  {
   "cell_type": "code",
   "execution_count": null,
   "metadata": {},
   "outputs": [],
   "source": []
  },
  {
   "cell_type": "code",
   "execution_count": 106,
   "metadata": {},
   "outputs": [],
   "source": [
    "data = pd.merge(data, pcaumap,  how=\"right\", on='SUBSCRIBER_ID')"
   ]
  },
  {
   "cell_type": "code",
   "execution_count": 111,
   "metadata": {},
   "outputs": [
    {
     "data": {
      "text/html": [
       "<div>\n",
       "<style scoped>\n",
       "    .dataframe tbody tr th:only-of-type {\n",
       "        vertical-align: middle;\n",
       "    }\n",
       "\n",
       "    .dataframe tbody tr th {\n",
       "        vertical-align: top;\n",
       "    }\n",
       "\n",
       "    .dataframe thead th {\n",
       "        text-align: right;\n",
       "    }\n",
       "</style>\n",
       "<table border=\"1\" class=\"dataframe\">\n",
       "  <thead>\n",
       "    <tr style=\"text-align: right;\">\n",
       "      <th></th>\n",
       "      <th>SUBSCRIBER_ID</th>\n",
       "      <th>TIME_KEY</th>\n",
       "      <th>LAST_BALANCE</th>\n",
       "      <th>LT_x</th>\n",
       "      <th>SUM_RECHARGE</th>\n",
       "      <th>COUNT_RECHARGE</th>\n",
       "      <th>MAX_RECHARGE</th>\n",
       "      <th>MIN_RECHARGE</th>\n",
       "      <th>ARPU</th>\n",
       "      <th>AVG_BALANCE</th>\n",
       "      <th>...</th>\n",
       "      <th>chanel_retail_evroset</th>\n",
       "      <th>chanel_retail_other</th>\n",
       "      <th>chanel_retail_svyaznoy</th>\n",
       "      <th>chanel_sampling</th>\n",
       "      <th>PRICE_PLAN_GROUP_PRICE_PLAN_GROUP_1</th>\n",
       "      <th>PRICE_PLAN_GROUP_PRICE_PLAN_GROUP_2</th>\n",
       "      <th>PRICE_PLAN_GROUP_PRICE_PLAN_GROUP_3</th>\n",
       "      <th>x</th>\n",
       "      <th>y</th>\n",
       "      <th>cluster</th>\n",
       "    </tr>\n",
       "  </thead>\n",
       "  <tbody>\n",
       "    <tr>\n",
       "      <td>0</td>\n",
       "      <td>227111</td>\n",
       "      <td>2018-03-05</td>\n",
       "      <td>47.78</td>\n",
       "      <td>827.0</td>\n",
       "      <td>0.0</td>\n",
       "      <td>0.0</td>\n",
       "      <td>0.0</td>\n",
       "      <td>0.0</td>\n",
       "      <td>0.0</td>\n",
       "      <td>47.78</td>\n",
       "      <td>...</td>\n",
       "      <td>0</td>\n",
       "      <td>0</td>\n",
       "      <td>0</td>\n",
       "      <td>0</td>\n",
       "      <td>1</td>\n",
       "      <td>0</td>\n",
       "      <td>0</td>\n",
       "      <td>-8.282953</td>\n",
       "      <td>-3.178072</td>\n",
       "      <td>4</td>\n",
       "    </tr>\n",
       "    <tr>\n",
       "      <td>1</td>\n",
       "      <td>227111</td>\n",
       "      <td>2018-03-12</td>\n",
       "      <td>547.78</td>\n",
       "      <td>834.0</td>\n",
       "      <td>500.0</td>\n",
       "      <td>1.0</td>\n",
       "      <td>500.0</td>\n",
       "      <td>500.0</td>\n",
       "      <td>0.0</td>\n",
       "      <td>119.21</td>\n",
       "      <td>...</td>\n",
       "      <td>0</td>\n",
       "      <td>0</td>\n",
       "      <td>0</td>\n",
       "      <td>0</td>\n",
       "      <td>1</td>\n",
       "      <td>0</td>\n",
       "      <td>0</td>\n",
       "      <td>-8.282953</td>\n",
       "      <td>-3.178072</td>\n",
       "      <td>4</td>\n",
       "    </tr>\n",
       "    <tr>\n",
       "      <td>2</td>\n",
       "      <td>227111</td>\n",
       "      <td>2018-03-19</td>\n",
       "      <td>47.78</td>\n",
       "      <td>841.0</td>\n",
       "      <td>0.0</td>\n",
       "      <td>0.0</td>\n",
       "      <td>0.0</td>\n",
       "      <td>0.0</td>\n",
       "      <td>500.0</td>\n",
       "      <td>47.78</td>\n",
       "      <td>...</td>\n",
       "      <td>0</td>\n",
       "      <td>0</td>\n",
       "      <td>0</td>\n",
       "      <td>0</td>\n",
       "      <td>1</td>\n",
       "      <td>0</td>\n",
       "      <td>0</td>\n",
       "      <td>-8.282953</td>\n",
       "      <td>-3.178072</td>\n",
       "      <td>4</td>\n",
       "    </tr>\n",
       "    <tr>\n",
       "      <td>3</td>\n",
       "      <td>227111</td>\n",
       "      <td>2018-03-26</td>\n",
       "      <td>47.78</td>\n",
       "      <td>848.0</td>\n",
       "      <td>0.0</td>\n",
       "      <td>0.0</td>\n",
       "      <td>0.0</td>\n",
       "      <td>0.0</td>\n",
       "      <td>0.0</td>\n",
       "      <td>47.78</td>\n",
       "      <td>...</td>\n",
       "      <td>0</td>\n",
       "      <td>0</td>\n",
       "      <td>0</td>\n",
       "      <td>0</td>\n",
       "      <td>1</td>\n",
       "      <td>0</td>\n",
       "      <td>0</td>\n",
       "      <td>-8.282953</td>\n",
       "      <td>-3.178072</td>\n",
       "      <td>4</td>\n",
       "    </tr>\n",
       "    <tr>\n",
       "      <td>4</td>\n",
       "      <td>227111</td>\n",
       "      <td>2018-04-02</td>\n",
       "      <td>47.78</td>\n",
       "      <td>855.0</td>\n",
       "      <td>0.0</td>\n",
       "      <td>0.0</td>\n",
       "      <td>0.0</td>\n",
       "      <td>0.0</td>\n",
       "      <td>0.0</td>\n",
       "      <td>47.78</td>\n",
       "      <td>...</td>\n",
       "      <td>0</td>\n",
       "      <td>0</td>\n",
       "      <td>0</td>\n",
       "      <td>0</td>\n",
       "      <td>1</td>\n",
       "      <td>0</td>\n",
       "      <td>0</td>\n",
       "      <td>-8.282953</td>\n",
       "      <td>-3.178072</td>\n",
       "      <td>4</td>\n",
       "    </tr>\n",
       "  </tbody>\n",
       "</table>\n",
       "<p>5 rows × 46 columns</p>\n",
       "</div>"
      ],
      "text/plain": [
       "   SUBSCRIBER_ID   TIME_KEY  LAST_BALANCE   LT_x  SUM_RECHARGE  \\\n",
       "0         227111 2018-03-05         47.78  827.0           0.0   \n",
       "1         227111 2018-03-12        547.78  834.0         500.0   \n",
       "2         227111 2018-03-19         47.78  841.0           0.0   \n",
       "3         227111 2018-03-26         47.78  848.0           0.0   \n",
       "4         227111 2018-04-02         47.78  855.0           0.0   \n",
       "\n",
       "   COUNT_RECHARGE  MAX_RECHARGE  MIN_RECHARGE   ARPU  AVG_BALANCE  ...  \\\n",
       "0             0.0           0.0           0.0    0.0        47.78  ...   \n",
       "1             1.0         500.0         500.0    0.0       119.21  ...   \n",
       "2             0.0           0.0           0.0  500.0        47.78  ...   \n",
       "3             0.0           0.0           0.0    0.0        47.78  ...   \n",
       "4             0.0           0.0           0.0    0.0        47.78  ...   \n",
       "\n",
       "   chanel_retail_evroset  chanel_retail_other  chanel_retail_svyaznoy  \\\n",
       "0                      0                    0                       0   \n",
       "1                      0                    0                       0   \n",
       "2                      0                    0                       0   \n",
       "3                      0                    0                       0   \n",
       "4                      0                    0                       0   \n",
       "\n",
       "   chanel_sampling  PRICE_PLAN_GROUP_PRICE_PLAN_GROUP_1  \\\n",
       "0                0                                    1   \n",
       "1                0                                    1   \n",
       "2                0                                    1   \n",
       "3                0                                    1   \n",
       "4                0                                    1   \n",
       "\n",
       "   PRICE_PLAN_GROUP_PRICE_PLAN_GROUP_2  PRICE_PLAN_GROUP_PRICE_PLAN_GROUP_3  \\\n",
       "0                                    0                                    0   \n",
       "1                                    0                                    0   \n",
       "2                                    0                                    0   \n",
       "3                                    0                                    0   \n",
       "4                                    0                                    0   \n",
       "\n",
       "          x         y  cluster  \n",
       "0 -8.282953 -3.178072        4  \n",
       "1 -8.282953 -3.178072        4  \n",
       "2 -8.282953 -3.178072        4  \n",
       "3 -8.282953 -3.178072        4  \n",
       "4 -8.282953 -3.178072        4  \n",
       "\n",
       "[5 rows x 46 columns]"
      ]
     },
     "execution_count": 111,
     "metadata": {},
     "output_type": "execute_result"
    },
    {
     "data": {
      "text/html": [
       "<div>\n",
       "<style scoped>\n",
       "    .dataframe tbody tr th:only-of-type {\n",
       "        vertical-align: middle;\n",
       "    }\n",
       "\n",
       "    .dataframe tbody tr th {\n",
       "        vertical-align: top;\n",
       "    }\n",
       "\n",
       "    .dataframe thead th {\n",
       "        text-align: right;\n",
       "    }\n",
       "</style>\n",
       "<table border=\"1\" class=\"dataframe\">\n",
       "  <thead>\n",
       "    <tr style=\"text-align: right;\">\n",
       "      <th></th>\n",
       "      <th>SUBSCRIBER_ID</th>\n",
       "      <th>TIME_KEY</th>\n",
       "      <th>LAST_BALANCE</th>\n",
       "      <th>LT_x</th>\n",
       "      <th>SUM_RECHARGE</th>\n",
       "      <th>COUNT_RECHARGE</th>\n",
       "      <th>MAX_RECHARGE</th>\n",
       "      <th>MIN_RECHARGE</th>\n",
       "      <th>ARPU</th>\n",
       "      <th>AVG_BALANCE</th>\n",
       "      <th>...</th>\n",
       "      <th>chanel_retail_evroset</th>\n",
       "      <th>chanel_retail_other</th>\n",
       "      <th>chanel_retail_svyaznoy</th>\n",
       "      <th>chanel_sampling</th>\n",
       "      <th>PRICE_PLAN_GROUP_PRICE_PLAN_GROUP_1</th>\n",
       "      <th>PRICE_PLAN_GROUP_PRICE_PLAN_GROUP_2</th>\n",
       "      <th>PRICE_PLAN_GROUP_PRICE_PLAN_GROUP_3</th>\n",
       "      <th>x</th>\n",
       "      <th>y</th>\n",
       "      <th>cluster</th>\n",
       "    </tr>\n",
       "  </thead>\n",
       "  <tbody>\n",
       "    <tr>\n",
       "      <td>0</td>\n",
       "      <td>227111</td>\n",
       "      <td>2018-03-05</td>\n",
       "      <td>47.78</td>\n",
       "      <td>827.0</td>\n",
       "      <td>0.0</td>\n",
       "      <td>0.0</td>\n",
       "      <td>0.0</td>\n",
       "      <td>0.0</td>\n",
       "      <td>0.0</td>\n",
       "      <td>47.78</td>\n",
       "      <td>...</td>\n",
       "      <td>0</td>\n",
       "      <td>0</td>\n",
       "      <td>0</td>\n",
       "      <td>0</td>\n",
       "      <td>1</td>\n",
       "      <td>0</td>\n",
       "      <td>0</td>\n",
       "      <td>-8.282953</td>\n",
       "      <td>-3.178072</td>\n",
       "      <td>4</td>\n",
       "    </tr>\n",
       "    <tr>\n",
       "      <td>1</td>\n",
       "      <td>227111</td>\n",
       "      <td>2018-03-12</td>\n",
       "      <td>547.78</td>\n",
       "      <td>834.0</td>\n",
       "      <td>500.0</td>\n",
       "      <td>1.0</td>\n",
       "      <td>500.0</td>\n",
       "      <td>500.0</td>\n",
       "      <td>0.0</td>\n",
       "      <td>119.21</td>\n",
       "      <td>...</td>\n",
       "      <td>0</td>\n",
       "      <td>0</td>\n",
       "      <td>0</td>\n",
       "      <td>0</td>\n",
       "      <td>1</td>\n",
       "      <td>0</td>\n",
       "      <td>0</td>\n",
       "      <td>-8.282953</td>\n",
       "      <td>-3.178072</td>\n",
       "      <td>4</td>\n",
       "    </tr>\n",
       "    <tr>\n",
       "      <td>2</td>\n",
       "      <td>227111</td>\n",
       "      <td>2018-03-19</td>\n",
       "      <td>47.78</td>\n",
       "      <td>841.0</td>\n",
       "      <td>0.0</td>\n",
       "      <td>0.0</td>\n",
       "      <td>0.0</td>\n",
       "      <td>0.0</td>\n",
       "      <td>500.0</td>\n",
       "      <td>47.78</td>\n",
       "      <td>...</td>\n",
       "      <td>0</td>\n",
       "      <td>0</td>\n",
       "      <td>0</td>\n",
       "      <td>0</td>\n",
       "      <td>1</td>\n",
       "      <td>0</td>\n",
       "      <td>0</td>\n",
       "      <td>-8.282953</td>\n",
       "      <td>-3.178072</td>\n",
       "      <td>4</td>\n",
       "    </tr>\n",
       "    <tr>\n",
       "      <td>3</td>\n",
       "      <td>227111</td>\n",
       "      <td>2018-03-26</td>\n",
       "      <td>47.78</td>\n",
       "      <td>848.0</td>\n",
       "      <td>0.0</td>\n",
       "      <td>0.0</td>\n",
       "      <td>0.0</td>\n",
       "      <td>0.0</td>\n",
       "      <td>0.0</td>\n",
       "      <td>47.78</td>\n",
       "      <td>...</td>\n",
       "      <td>0</td>\n",
       "      <td>0</td>\n",
       "      <td>0</td>\n",
       "      <td>0</td>\n",
       "      <td>1</td>\n",
       "      <td>0</td>\n",
       "      <td>0</td>\n",
       "      <td>-8.282953</td>\n",
       "      <td>-3.178072</td>\n",
       "      <td>4</td>\n",
       "    </tr>\n",
       "    <tr>\n",
       "      <td>4</td>\n",
       "      <td>227111</td>\n",
       "      <td>2018-04-02</td>\n",
       "      <td>47.78</td>\n",
       "      <td>855.0</td>\n",
       "      <td>0.0</td>\n",
       "      <td>0.0</td>\n",
       "      <td>0.0</td>\n",
       "      <td>0.0</td>\n",
       "      <td>0.0</td>\n",
       "      <td>47.78</td>\n",
       "      <td>...</td>\n",
       "      <td>0</td>\n",
       "      <td>0</td>\n",
       "      <td>0</td>\n",
       "      <td>0</td>\n",
       "      <td>1</td>\n",
       "      <td>0</td>\n",
       "      <td>0</td>\n",
       "      <td>-8.282953</td>\n",
       "      <td>-3.178072</td>\n",
       "      <td>4</td>\n",
       "    </tr>\n",
       "  </tbody>\n",
       "</table>\n",
       "<p>5 rows × 46 columns</p>\n",
       "</div>"
      ],
      "text/plain": [
       "   SUBSCRIBER_ID   TIME_KEY  LAST_BALANCE   LT_x  SUM_RECHARGE  \\\n",
       "0         227111 2018-03-05         47.78  827.0           0.0   \n",
       "1         227111 2018-03-12        547.78  834.0         500.0   \n",
       "2         227111 2018-03-19         47.78  841.0           0.0   \n",
       "3         227111 2018-03-26         47.78  848.0           0.0   \n",
       "4         227111 2018-04-02         47.78  855.0           0.0   \n",
       "\n",
       "   COUNT_RECHARGE  MAX_RECHARGE  MIN_RECHARGE   ARPU  AVG_BALANCE  ...  \\\n",
       "0             0.0           0.0           0.0    0.0        47.78  ...   \n",
       "1             1.0         500.0         500.0    0.0       119.21  ...   \n",
       "2             0.0           0.0           0.0  500.0        47.78  ...   \n",
       "3             0.0           0.0           0.0    0.0        47.78  ...   \n",
       "4             0.0           0.0           0.0    0.0        47.78  ...   \n",
       "\n",
       "   chanel_retail_evroset  chanel_retail_other  chanel_retail_svyaznoy  \\\n",
       "0                      0                    0                       0   \n",
       "1                      0                    0                       0   \n",
       "2                      0                    0                       0   \n",
       "3                      0                    0                       0   \n",
       "4                      0                    0                       0   \n",
       "\n",
       "   chanel_sampling  PRICE_PLAN_GROUP_PRICE_PLAN_GROUP_1  \\\n",
       "0                0                                    1   \n",
       "1                0                                    1   \n",
       "2                0                                    1   \n",
       "3                0                                    1   \n",
       "4                0                                    1   \n",
       "\n",
       "   PRICE_PLAN_GROUP_PRICE_PLAN_GROUP_2  PRICE_PLAN_GROUP_PRICE_PLAN_GROUP_3  \\\n",
       "0                                    0                                    0   \n",
       "1                                    0                                    0   \n",
       "2                                    0                                    0   \n",
       "3                                    0                                    0   \n",
       "4                                    0                                    0   \n",
       "\n",
       "          x         y  cluster  \n",
       "0 -8.282953 -3.178072        4  \n",
       "1 -8.282953 -3.178072        4  \n",
       "2 -8.282953 -3.178072        4  \n",
       "3 -8.282953 -3.178072        4  \n",
       "4 -8.282953 -3.178072        4  \n",
       "\n",
       "[5 rows x 46 columns]"
      ]
     },
     "execution_count": 111,
     "metadata": {},
     "output_type": "execute_result"
    }
   ],
   "source": [
    "data.head()"
   ]
  },
  {
   "cell_type": "code",
   "execution_count": 157,
   "metadata": {},
   "outputs": [
    {
     "data": {
      "image/png": "[encoded data removed]",
      "text/plain": [
       "<Figure size 600x400 with 1 Axes>"
      ]
     },
     "metadata": {
      "needs_background": "light"
     },
     "output_type": "display_data"
    },
    {
     "data": {
      "image/png": "[encoded data removed]",
      "text/plain": [
       "<Figure size 600x400 with 1 Axes>"
      ]
     },
     "metadata": {
      "needs_background": "light"
     },
     "output_type": "display_data"
    },
    {
     "data": {
      "image/png": "[encoded data removed]",
      "text/plain": [
       "<Figure size 600x400 with 1 Axes>"
      ]
     },
     "metadata": {
      "needs_background": "light"
     },
     "output_type": "display_data"
    },
    {
     "data": {
      "image/png": "[encoded data removed]",
      "text/plain": [
       "<Figure size 600x400 with 1 Axes>"
      ]
     },
     "metadata": {
      "needs_background": "light"
     },
     "output_type": "display_data"
    },
    {
     "data": {
      "image/png": "[encoded data removed]",
      "text/plain": [
       "<Figure size 600x400 with 1 Axes>"
      ]
     },
     "metadata": {
      "needs_background": "light"
     },
     "output_type": "display_data"
    },
    {
     "data": {
      "image/png": "[encoded data removed]",
      "text/plain": [
       "<Figure size 600x400 with 1 Axes>"
      ]
     },
     "metadata": {
      "needs_background": "light"
     },
     "output_type": "display_data"
    },
    {
     "data": {
      "image/png": "[encoded data removed]",
      "text/plain": [
       "<Figure size 600x400 with 1 Axes>"
      ]
     },
     "metadata": {
      "needs_background": "light"
     },
     "output_type": "display_data"
    },
    {
     "data": {
      "image/png": "[encoded data removed]",
      "text/plain": [
       "<Figure size 600x400 with 1 Axes>"
      ]
     },
     "metadata": {
      "needs_background": "light"
     },
     "output_type": "display_data"
    },
    {
     "data": {
      "image/png": "[encoded data removed]",
      "text/plain": [
       "<Figure size 600x400 with 1 Axes>"
      ]
     },
     "metadata": {
      "needs_background": "light"
     },
     "output_type": "display_data"
    },
    {
     "data": {
      "image/png": "[encoded data removed]",
      "text/plain": [
       "<Figure size 600x400 with 1 Axes>"
      ]
     },
     "metadata": {
      "needs_background": "light"
     },
     "output_type": "display_data"
    },
    {
     "data": {
      "image/png": "[encoded data removed]",
      "text/plain": [
       "<Figure size 600x400 with 1 Axes>"
      ]
     },
     "metadata": {
      "needs_background": "light"
     },
     "output_type": "display_data"
    },
    {
     "data": {
      "image/png": "[encoded data removed]",
      "text/plain": [
       "<Figure size 600x400 with 1 Axes>"
      ]
     },
     "metadata": {
      "needs_background": "light"
     },
     "output_type": "display_data"
    }
   ],
   "source": [
    "timeline_w = np.arange(1, 34)\n",
    "predicted_ARPU = {}\n",
    "for i in range(6):\n",
    "    plt.figure(dpi = 100)\n",
    "    plt.title('mean ARPU cluster {}'.format(i))\n",
    "    z = np.polyfit(timeline_w, data[data.cluster == i].groupby(by='TIME_KEY').ARPU.mean(), 1)\n",
    "    p = np.poly1d(z)\n",
    "    \n",
    "    predicted_ARPU[str(i)] = p(34)+p(35)+p(36)+p(37)\n",
    "    \n",
    "    plt.plot(np.arange(1, 38), p(np.arange(1, 38)), 'r--')\n",
    "    plt.scatter(timeline_w, data[data.cluster == i].groupby(by='TIME_KEY').ARPU.mean(), s = 1)\n",
    "    plt.savefig('mean ARPU cluster {}.png'.format(i))"
   ]
  },
  {
   "cell_type": "code",
   "execution_count": 154,
   "metadata": {},
   "outputs": [],
   "source": [
    "timeline = np.arange(data[data.cluster == i].TIME_KEY.unique().min(),\n",
    "          data[data.cluster == i].TIME_KEY.unique().max()+ np.timedelta64(1, 'W'), \n",
    "          np.timedelta64(1, 'W'),  dtype='datetime64[D]')"
   ]
  },
  {
   "cell_type": "markdown",
   "metadata": {},
   "source": [
    "## ARPU for next 4 weeks"
   ]
  },
  {
   "cell_type": "code",
   "execution_count": 158,
   "metadata": {},
   "outputs": [
    {
     "data": {
      "text/plain": [
       "{'0': 520.4176938873924,\n",
       " '1': 602.2122723586305,\n",
       " '2': 505.5407432686521,\n",
       " '3': 512.1977189528868,\n",
       " '4': 504.4167195003957,\n",
       " '5': 444.27999244982647}"
      ]
     },
     "execution_count": 158,
     "metadata": {},
     "output_type": "execute_result"
    },
    {
     "data": {
      "text/plain": [
       "{'0': 520.4176938873924,\n",
       " '1': 602.2122723586305,\n",
       " '2': 505.5407432686521,\n",
       " '3': 512.1977189528868,\n",
       " '4': 504.4167195003957,\n",
       " '5': 444.27999244982647}"
      ]
     },
     "execution_count": 158,
     "metadata": {},
     "output_type": "execute_result"
    }
   ],
   "source": [
    "predicted_ARPU"
   ]
  },
  {
   "cell_type": "code",
   "execution_count": 163,
   "metadata": {},
   "outputs": [
    {
     "data": {
      "text/plain": [
       "array([109.19802219, 112.23825927, 123.22662911, 136.4903976 ,\n",
       "       109.31254206, 114.86889966, 123.35170855, 149.59638573,\n",
       "       124.77924548, 115.14812442, 119.50004481, 130.3974573 ,\n",
       "       136.73651069, 116.99807923, 119.43116701, 125.41566653,\n",
       "       138.94592119, 111.76418955, 115.89048406, 122.1871023 ,\n",
       "       129.11867388, 126.89465687, 118.19092664, 120.17818717,\n",
       "       123.58147217, 134.43970965, 116.25790136, 120.96049381,\n",
       "       127.66248565, 135.65961737, 124.55979693, 122.17264586,\n",
       "       124.50345092])"
      ]
     },
     "execution_count": 163,
     "metadata": {},
     "output_type": "execute_result"
    },
    {
     "data": {
      "text/plain": [
       "array([109.19802219, 112.23825927, 123.22662911, 136.4903976 ,\n",
       "       109.31254206, 114.86889966, 123.35170855, 149.59638573,\n",
       "       124.77924548, 115.14812442, 119.50004481, 130.3974573 ,\n",
       "       136.73651069, 116.99807923, 119.43116701, 125.41566653,\n",
       "       138.94592119, 111.76418955, 115.89048406, 122.1871023 ,\n",
       "       129.11867388, 126.89465687, 118.19092664, 120.17818717,\n",
       "       123.58147217, 134.43970965, 116.25790136, 120.96049381,\n",
       "       127.66248565, 135.65961737, 124.55979693, 122.17264586,\n",
       "       124.50345092])"
      ]
     },
     "execution_count": 163,
     "metadata": {},
     "output_type": "execute_result"
    }
   ],
   "source": [
    "data[data.cluster == 2].groupby(by='TIME_KEY').ARPU.mean().values"
   ]
  },
  {
   "cell_type": "code",
   "execution_count": 166,
   "metadata": {},
   "outputs": [
    {
     "data": {
      "text/plain": [
       "0.07219191965361707"
      ]
     },
     "execution_count": 166,
     "metadata": {},
     "output_type": "execute_result"
    },
    {
     "data": {
      "text/plain": [
       "0.07219191965361707"
      ]
     },
     "execution_count": 166,
     "metadata": {},
     "output_type": "execute_result"
    }
   ],
   "source": [
    "z = np.polyfit(timeline_w, data[data.cluster == 2].groupby(by='TIME_KEY').ARPU.mean().values, 1)\n",
    "p = np.poly1d(z)\n",
    "(data[data.cluster == 2].groupby(by='TIME_KEY').ARPU.mean().values - p(timeline_w)).std()/data[data.cluster == 2].groupby(by='TIME_KEY').ARPU.mean().values.mean()"
   ]
  },
  {
   "cell_type": "code",
   "execution_count": null,
   "metadata": {},
   "outputs": [],
   "source": []
  }
 ],
 "metadata": {
  "colab": {
   "name": "telecom_sava.ipynb",
   "provenance": [],
   "toc_visible": true
  },
  "kernelspec": {
   "display_name": "Python 3",
   "language": "python",
   "name": "python3"
  },
  "language_info": {
   "codemirror_mode": {
    "name": "ipython",
    "version": 3
   },
   "file_extension": ".py",
   "mimetype": "text/x-python",
   "name": "python",
   "nbconvert_exporter": "python",
   "pygments_lexer": "ipython3",
   "version": "3.5.2"
  }
 },
 "nbformat": 4,
 "nbformat_minor": 1
}
